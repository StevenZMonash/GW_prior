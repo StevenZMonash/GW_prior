{
 "cells": [
  {
   "cell_type": "code",
   "execution_count": 1,
   "metadata": {},
   "outputs": [],
   "source": [
    "import gw_ml_priors"
   ]
  },
  {
   "cell_type": "code",
   "execution_count": 2,
   "metadata": {},
   "outputs": [],
   "source": [
    "import multiprocessing\n",
    "import os\n",
    "import shutil\n",
    "import h5py\n",
    "import matplotlib.pyplot as plt\n",
    "import numpy as np\n",
    "import pandas as pd\n",
    "from bilby.core.prior import Interped\n",
    "from joblib import Parallel, delayed\n",
    "from numpy.random import uniform as unif\n",
    "from tqdm.auto import tqdm\n",
    "\n",
    "from gw_ml_priors.conversions import calc_a2\n",
    "from gw_ml_priors.regressors.scikit_regressor import ScikitRegressor\n",
    "\n",
    "NUM_CORES = multiprocessing.cpu_count()\n",
    "\n",
    "\n",
    "def get_a1_prior(xeff, q, mcmc_n=int(1e5)):\n",
    "    a1s = np.linspace(0, 1, 500)\n",
    "    da1 = a1s[1] - a1s[0]\n",
    "    p_a1 = Parallel(n_jobs=NUM_CORES, verbose=1)(\n",
    "        delayed(get_p_a1_given_xeff_q)(a1, xeff, q, mcmc_n)\n",
    "        for a1 in tqdm(a1s, desc=\"Building a1 cache\")\n",
    "    )\n",
    "    p_a1 = p_a1 / np.sum(p_a1) / da1\n",
    "    data = pd.DataFrame(dict(a1=a1s, p_a1=p_a1))\n",
    "    a1 = data.a1.values\n",
    "    p_a1 = norm_values(data.p_a1.values, a1)\n",
    "    min_b, max_b = find_boundary(a1, p_a1)\n",
    "    return Interped(\n",
    "        xx=a1, yy=p_a1, minimum=min_b, maximum=max_b, name=\"a_1\", latex_label=r\"$a_1$\"\n",
    "    )\n",
    "\n",
    "\n",
    "def get_p_a1_given_xeff_q(a1, xeff, q, n=int(1e4)):\n",
    "    cos1, cos2 = unif(-1, 1, n), unif(-1, 1, n)\n",
    "    a2 = calc_a2(xeff=xeff, q=q, cos1=cos1, cos2=cos2, a1=a1)\n",
    "    integrand = a2_interpreter_function(a2)\n",
    "    return np.mean(integrand)\n",
    "\n",
    "\n",
    "def find_nearest(array, value):\n",
    "    array = np.asarray(array)\n",
    "    idx = (np.abs(array - value)).argmin()\n",
    "    return array[idx]\n",
    "\n",
    "\n",
    "def find_boundary_idx(x):\n",
    "    \"\"\"finds idx where data is non zero (assumes that there wont be gaps)\"\"\"\n",
    "    non_z = np.nonzero(x)[0]\n",
    "    return non_z[0], non_z[-1]\n",
    "\n",
    "\n",
    "def norm_values(y, x):\n",
    "    return y / np.trapz(y, x)\n",
    "\n",
    "\n",
    "def find_boundary(x, y):\n",
    "    b1, b2 = find_boundary_idx(y)\n",
    "    vals = [x[b1], x[b2]]\n",
    "    start, end = min(vals), max(vals)\n",
    "    return start, end\n",
    "\n",
    "\n",
    "def a2_interpreter_function(a2):\n",
    "    return np.where(((0 < a2) & (a2 < 1)), 1, 0)\n",
    "\n",
    "\n"
   ]
  },
  {
   "cell_type": "code",
   "execution_count": 3,
   "metadata": {},
   "outputs": [
    {
     "name": "stderr",
     "output_type": "stream",
     "text": [
      "Building a1 cache:   0%|          | 0/500 [00:00<?, ?it/s][Parallel(n_jobs=8)]: Using backend LokyBackend with 8 concurrent workers.\n",
      "Building a1 cache:  10%|▉         | 48/500 [00:05<00:31, 14.18it/s][Parallel(n_jobs=8)]: Done  34 tasks      | elapsed:    5.4s\n",
      "Building a1 cache:  38%|███▊      | 192/500 [00:12<00:14, 20.79it/s][Parallel(n_jobs=8)]: Done 184 tasks      | elapsed:   12.6s\n",
      "Building a1 cache:  90%|████████▉ | 448/500 [00:24<00:02, 19.93it/s][Parallel(n_jobs=8)]: Done 434 tasks      | elapsed:   24.8s\n",
      "Building a1 cache: 100%|██████████| 500/500 [00:27<00:00, 18.39it/s]\n",
      "[Parallel(n_jobs=8)]: Done 500 out of 500 | elapsed:   27.9s finished\n"
     ]
    },
    {
     "data": {
      "text/plain": [
       "Text(0, 0.5, 'p(a1|q=0.5,xeff=-0.4)')"
      ]
     },
     "execution_count": 3,
     "metadata": {},
     "output_type": "execute_result"
    },
    {
     "data": {
      "image/png": "[encoded data removed]",
      "text/plain": [
       "<Figure size 432x288 with 1 Axes>"
      ]
     },
     "metadata": {
      "needs_background": "light"
     },
     "output_type": "display_data"
    }
   ],
   "source": [
    "\n",
    "outdir = \"out_p_a1_given_q_xeff\"\n",
    "os.makedirs(outdir, exist_ok=True)\n",
    "q, xeff = 0.5, -0.4\n",
    "a1_prior = get_a1_prior(q=q, xeff=xeff)\n",
    "plt.plot(a1_prior.xx, a1_prior.yy)\n",
    "plt.xlabel(\"a1\")\n",
    "plt.ylabel(f\"p(a1|q={q},xeff={xeff})\")\n",
    "\n",
    "## TODO: train ML model to generate p(a1|xeff,q) for different q, xeff"
   ]
  },
  {
   "cell_type": "code",
   "execution_count": 4,
   "metadata": {},
   "outputs": [
    {
     "data": {
      "text/plain": [
       "Interped(xx=array([0.10220441, 0.1040036 , 0.10580279, 0.10760198, 0.10940117,\n",
       "       0.11120036, 0.11299955, 0.11479874, 0.11659793, 0.11839711,\n",
       "       0.1201963 , 0.12199549, 0.12379468, 0.12559387, 0.12739306,\n",
       "       0.12919225, 0.13099144, 0.13279063, 0.13458982, 0.13638901,\n",
       "       0.1381882 , 0.13998739, 0.14178658, 0.14358577, 0.14538496,\n",
       "       0.14718415, 0.14898334, 0.15078253, 0.15258172, 0.15438091,\n",
       "       0.1561801 , 0.15797929, 0.15977847, 0.16157766, 0.16337685,\n",
       "       0.16517604, 0.16697523, 0.16877442, 0.17057361, 0.1723728 ,\n",
       "       0.17417199, 0.17597118, 0.17777037, 0.17956956, 0.18136875,\n",
       "       0.18316794, 0.18496713, 0.18676632, 0.18856551, 0.1903647 ,\n",
       "       0.19216389, 0.19396308, 0.19576227, 0.19756146, 0.19936065,\n",
       "       0.20115983, 0.20295902, 0.20475821, 0.2065574 , 0.20835659,\n",
       "       0.21015578, 0.21195497, 0.21375416, 0.21555335, 0.21735254,\n",
       "       0.21915173, 0.22095092, 0.22275011, 0.2245493 , 0.22634849,\n",
       "       0.22814768, 0.22994687, 0.23174606, 0.23354525, 0.23534444,\n",
       "       0.23714363, 0.23894282, 0.24074201, 0.24254119, 0.24434038,\n",
       "       0.24613957, 0.24793876, 0.24973795, 0.25153714, 0.25333633,\n",
       "       0.25513552, 0.25693471, 0.2587339 , 0.26053309, 0.26233228,\n",
       "       0.26413147, 0.26593066, 0.26772985, 0.26952904, 0.27132823,\n",
       "       0.27312742, 0.27492661, 0.2767258 , 0.27852499, 0.28032418,\n",
       "       0.28212336, 0.28392255, 0.28572174, 0.28752093, 0.28932012,\n",
       "       0.29111931, 0.2929185 , 0.29471769, 0.29651688, 0.29831607,\n",
       "       0.30011526, 0.30191445, 0.30371364, 0.30551283, 0.30731202,\n",
       "       0.30911121, 0.3109104 , 0.31270959, 0.31450878, 0.31630797,\n",
       "       0.31810716, 0.31990635, 0.32170554, 0.32350472, 0.32530391,\n",
       "       0.3271031 , 0.32890229, 0.33070148, 0.33250067, 0.33429986,\n",
       "       0.33609905, 0.33789824, 0.33969743, 0.34149662, 0.34329581,\n",
       "       0.345095  , 0.34689419, 0.34869338, 0.35049257, 0.35229176,\n",
       "       0.35409095, 0.35589014, 0.35768933, 0.35948852, 0.36128771,\n",
       "       0.3630869 , 0.36488608, 0.36668527, 0.36848446, 0.37028365,\n",
       "       0.37208284, 0.37388203, 0.37568122, 0.37748041, 0.3792796 ,\n",
       "       0.38107879, 0.38287798, 0.38467717, 0.38647636, 0.38827555,\n",
       "       0.39007474, 0.39187393, 0.39367312, 0.39547231, 0.3972715 ,\n",
       "       0.39907069, 0.40086988, 0.40266907, 0.40446826, 0.40626744,\n",
       "       0.40806663, 0.40986582, 0.41166501, 0.4134642 , 0.41526339,\n",
       "       0.41706258, 0.41886177, 0.42066096, 0.42246015, 0.42425934,\n",
       "       0.42605853, 0.42785772, 0.42965691, 0.4314561 , 0.43325529,\n",
       "       0.43505448, 0.43685367, 0.43865286, 0.44045205, 0.44225124,\n",
       "       0.44405043, 0.44584962, 0.4476488 , 0.44944799, 0.45124718,\n",
       "       0.45304637, 0.45484556, 0.45664475, 0.45844394, 0.46024313,\n",
       "       0.46204232, 0.46384151, 0.4656407 , 0.46743989, 0.46923908,\n",
       "       0.47103827, 0.47283746, 0.47463665, 0.47643584, 0.47823503,\n",
       "       0.48003422, 0.48183341, 0.4836326 , 0.48543179, 0.48723097,\n",
       "       0.48903016, 0.49082935, 0.49262854, 0.49442773, 0.49622692,\n",
       "       0.49802611, 0.4998253 , 0.50162449, 0.50342368, 0.50522287,\n",
       "       0.50702206, 0.50882125, 0.51062044, 0.51241963, 0.51421882,\n",
       "       0.51601801, 0.5178172 , 0.51961639, 0.52141558, 0.52321477,\n",
       "       0.52501396, 0.52681315, 0.52861233, 0.53041152, 0.53221071,\n",
       "       0.5340099 , 0.53580909, 0.53760828, 0.53940747, 0.54120666,\n",
       "       0.54300585, 0.54480504, 0.54660423, 0.54840342, 0.55020261,\n",
       "       0.5520018 , 0.55380099, 0.55560018, 0.55739937, 0.55919856,\n",
       "       0.56099775, 0.56279694, 0.56459613, 0.56639532, 0.56819451,\n",
       "       0.56999369, 0.57179288, 0.57359207, 0.57539126, 0.57719045,\n",
       "       0.57898964, 0.58078883, 0.58258802, 0.58438721, 0.5861864 ,\n",
       "       0.58798559, 0.58978478, 0.59158397, 0.59338316, 0.59518235,\n",
       "       0.59698154, 0.59878073, 0.60057992, 0.60237911, 0.6041783 ,\n",
       "       0.60597749, 0.60777668, 0.60957587, 0.61137505, 0.61317424,\n",
       "       0.61497343, 0.61677262, 0.61857181, 0.620371  , 0.62217019,\n",
       "       0.62396938, 0.62576857, 0.62756776, 0.62936695, 0.63116614,\n",
       "       0.63296533, 0.63476452, 0.63656371, 0.6383629 , 0.64016209,\n",
       "       0.64196128, 0.64376047, 0.64555966, 0.64735885, 0.64915804,\n",
       "       0.65095723, 0.65275641, 0.6545556 , 0.65635479, 0.65815398,\n",
       "       0.65995317, 0.66175236, 0.66355155, 0.66535074, 0.66714993,\n",
       "       0.66894912, 0.67074831, 0.6725475 , 0.67434669, 0.67614588,\n",
       "       0.67794507, 0.67974426, 0.68154345, 0.68334264, 0.68514183,\n",
       "       0.68694102, 0.68874021, 0.6905394 , 0.69233858, 0.69413777,\n",
       "       0.69593696, 0.69773615, 0.69953534, 0.70133453, 0.70313372,\n",
       "       0.70493291, 0.7067321 , 0.70853129, 0.71033048, 0.71212967,\n",
       "       0.71392886, 0.71572805, 0.71752724, 0.71932643, 0.72112562,\n",
       "       0.72292481, 0.724724  , 0.72652319, 0.72832238, 0.73012157,\n",
       "       0.73192076, 0.73371994, 0.73551913, 0.73731832, 0.73911751,\n",
       "       0.7409167 , 0.74271589, 0.74451508, 0.74631427, 0.74811346,\n",
       "       0.74991265, 0.75171184, 0.75351103, 0.75531022, 0.75710941,\n",
       "       0.7589086 , 0.76070779, 0.76250698, 0.76430617, 0.76610536,\n",
       "       0.76790455, 0.76970374, 0.77150293, 0.77330212, 0.7751013 ,\n",
       "       0.77690049, 0.77869968, 0.78049887, 0.78229806, 0.78409725,\n",
       "       0.78589644, 0.78769563, 0.78949482, 0.79129401, 0.7930932 ,\n",
       "       0.79489239, 0.79669158, 0.79849077, 0.80028996, 0.80208915,\n",
       "       0.80388834, 0.80568753, 0.80748672, 0.80928591, 0.8110851 ,\n",
       "       0.81288429, 0.81468348, 0.81648266, 0.81828185, 0.82008104,\n",
       "       0.82188023, 0.82367942, 0.82547861, 0.8272778 , 0.82907699,\n",
       "       0.83087618, 0.83267537, 0.83447456, 0.83627375, 0.83807294,\n",
       "       0.83987213, 0.84167132, 0.84347051, 0.8452697 , 0.84706889,\n",
       "       0.84886808, 0.85066727, 0.85246646, 0.85426565, 0.85606484,\n",
       "       0.85786402, 0.85966321, 0.8614624 , 0.86326159, 0.86506078,\n",
       "       0.86685997, 0.86865916, 0.87045835, 0.87225754, 0.87405673,\n",
       "       0.87585592, 0.87765511, 0.8794543 , 0.88125349, 0.88305268,\n",
       "       0.88485187, 0.88665106, 0.88845025, 0.89024944, 0.89204863,\n",
       "       0.89384782, 0.89564701, 0.89744619, 0.89924538, 0.90104457,\n",
       "       0.90284376, 0.90464295, 0.90644214, 0.90824133, 0.91004052,\n",
       "       0.91183971, 0.9136389 , 0.91543809, 0.91723728, 0.91903647,\n",
       "       0.92083566, 0.92263485, 0.92443404, 0.92623323, 0.92803242,\n",
       "       0.92983161, 0.9316308 , 0.93342999, 0.93522918, 0.93702837,\n",
       "       0.93882755, 0.94062674, 0.94242593, 0.94422512, 0.94602431,\n",
       "       0.9478235 , 0.94962269, 0.95142188, 0.95322107, 0.95502026,\n",
       "       0.95681945, 0.95861864, 0.96041783, 0.96221702, 0.96401621,\n",
       "       0.9658154 , 0.96761459, 0.96941378, 0.97121297, 0.97301216,\n",
       "       0.97481135, 0.97661054, 0.97840973, 0.98020891, 0.9820081 ,\n",
       "       0.98380729, 0.98560648, 0.98740567, 0.98920486, 0.99100405,\n",
       "       0.99280324, 0.99460243, 0.99640162, 0.99820081, 1.        ]), yy=array([1.36321385e-04, 5.03487600e-04, 8.70653815e-04, 1.14329658e-03,\n",
       "       1.71043726e-03, 2.71140229e-03, 3.93528968e-03, 5.19796992e-03,\n",
       "       6.59396647e-03, 8.26151303e-03, 1.07092878e-02, 1.32764462e-02,\n",
       "       1.51084526e-02, 1.75540419e-02, 2.02465941e-02, 2.27481872e-02,\n",
       "       2.51232936e-02, 2.73563417e-02, 2.91790597e-02, 3.15519807e-02,\n",
       "       3.46116991e-02, 3.72059033e-02, 3.96736208e-02, 4.29180152e-02,\n",
       "       4.64672886e-02, 4.91068421e-02, 5.16144453e-02, 5.58018886e-02,\n",
       "       6.08384037e-02, 6.45980328e-02, 6.75353625e-02, 7.10395597e-02,\n",
       "       7.43899514e-02, 7.81219883e-02, 8.23963057e-02, 8.62906171e-02,\n",
       "       8.99535371e-02, 9.43330324e-02, 9.82336270e-02, 1.02025766e-01,\n",
       "       1.05697428e-01, 1.10803879e-01, 1.16259467e-01, 1.20694419e-01,\n",
       "       1.24679429e-01, 1.28608982e-01, 1.33054316e-01, 1.38378226e-01,\n",
       "       1.42159437e-01, 1.45831099e-01, 1.50594425e-01, 1.54830769e-01,\n",
       "       1.59646001e-01, 1.65299924e-01, 1.70116795e-01, 1.74582071e-01,\n",
       "       1.79778675e-01, 1.84504301e-01, 1.89072024e-01, 1.94089962e-01,\n",
       "       1.99462773e-01, 2.04952236e-01, 2.09826750e-01, 2.14401029e-01,\n",
       "       2.19117093e-01, 2.23866760e-01, 2.28603313e-01, 2.33866029e-01,\n",
       "       2.39183382e-01, 2.45425208e-01, 2.50283604e-01, 2.55462177e-01,\n",
       "       2.59763267e-01, 2.64488074e-01, 2.68738350e-01, 2.72787287e-01,\n",
       "       2.78009571e-01, 2.82681925e-01, 2.88896978e-01, 2.94282082e-01,\n",
       "       2.99105783e-01, 3.03977292e-01, 3.08366349e-01, 3.12739014e-01,\n",
       "       3.16928097e-01, 3.21446645e-01, 3.27235250e-01, 3.32757495e-01,\n",
       "       3.38393934e-01, 3.45002926e-01, 3.50628437e-01, 3.55277843e-01,\n",
       "       3.61230634e-01, 3.67017327e-01, 3.72410081e-01, 3.78126290e-01,\n",
       "       3.83382996e-01, 3.88203145e-01, 3.93465861e-01, 3.97646748e-01,\n",
       "       4.02658129e-01, 4.07798456e-01, 4.12860378e-01, 4.17620426e-01,\n",
       "       4.22249889e-01, 4.26949835e-01, 4.31704966e-01, 4.37387300e-01,\n",
       "       4.42160461e-01, 4.48457197e-01, 4.53582226e-01, 4.59907101e-01,\n",
       "       4.66459269e-01, 4.72024406e-01, 4.76892636e-01, 4.81776165e-01,\n",
       "       4.86560254e-01, 4.92714113e-01, 4.99567882e-01, 5.05051334e-01,\n",
       "       5.11739824e-01, 5.17507394e-01, 5.22842505e-01, 5.28695309e-01,\n",
       "       5.35104053e-01, 5.41192893e-01, 5.46305081e-01, 5.52819003e-01,\n",
       "       5.60529494e-01, 5.66572165e-01, 5.72738590e-01, 5.78063866e-01,\n",
       "       5.82959416e-01, 5.87633136e-01, 5.92869625e-01, 5.99557842e-01,\n",
       "       6.05800214e-01, 6.13021150e-01, 6.17555543e-01, 6.23057572e-01,\n",
       "       6.31137961e-01, 6.38182963e-01, 6.43970475e-01, 6.49268159e-01,\n",
       "       6.54555735e-01, 6.60725439e-01, 6.67845021e-01, 6.72618182e-01,\n",
       "       6.77034011e-01, 6.81965895e-01, 6.87166323e-01, 6.92970227e-01,\n",
       "       6.98836144e-01, 7.03773765e-01, 7.08258438e-01, 7.14046770e-01,\n",
       "       7.19531315e-01, 7.26507473e-01, 7.32438683e-01, 7.38517688e-01,\n",
       "       7.44372404e-01, 7.50273290e-01, 7.55606215e-01, 7.60721409e-01,\n",
       "       7.66401011e-01, 7.71522761e-01, 7.76573209e-01, 7.82447869e-01,\n",
       "       7.87530826e-01, 7.93143770e-01, 7.98299396e-01, 8.04193178e-01,\n",
       "       8.10171103e-01, 8.15216634e-01, 8.19985423e-01, 8.25203609e-01,\n",
       "       8.30954241e-01, 8.36584123e-01, 8.44415909e-01, 8.50281827e-01,\n",
       "       8.56284612e-01, 8.62102448e-01, 8.67976834e-01, 8.74301709e-01,\n",
       "       8.79954266e-01, 8.84548761e-01, 8.90790587e-01, 8.97758549e-01,\n",
       "       9.02592904e-01, 9.08332335e-01, 9.13501074e-01, 9.18870060e-01,\n",
       "       9.24918468e-01, 9.30888197e-01, 9.36823505e-01, 9.43929701e-01,\n",
       "       9.49681971e-01, 9.56732437e-01, 9.61228857e-01, 9.66439667e-01,\n",
       "       9.71917109e-01, 9.77675937e-01, 9.83940437e-01, 9.90254931e-01,\n",
       "       9.95965677e-01, 1.00096613e+00, 1.00781990e+00, 1.01444364e+00,\n",
       "       1.02095156e+00, 1.02700242e+00, 1.03338959e+00, 1.04018025e+00,\n",
       "       1.04621773e+00, 1.05165392e+00, 1.05901473e+00, 1.06427034e+00,\n",
       "       1.06928828e+00, 1.07531428e+00, 1.08113950e+00, 1.08815390e+00,\n",
       "       1.09475907e+00, 1.10057745e+00, 1.10679551e+00, 1.11341106e+00,\n",
       "       1.11850139e+00, 1.12413127e+00, 1.12976115e+00, 1.13462802e+00,\n",
       "       1.13949625e+00, 1.14439180e+00, 1.14989219e+00, 1.15652850e+00,\n",
       "       1.16364016e+00, 1.17010600e+00, 1.17679914e+00, 1.18193946e+00,\n",
       "       1.18755951e+00, 1.19287140e+00, 1.19785792e+00, 1.20283160e+00,\n",
       "       1.20817054e+00, 1.21415229e+00, 1.21994854e+00, 1.22462499e+00,\n",
       "       1.23155034e+00, 1.23779216e+00, 1.24251397e+00, 1.24778269e+00,\n",
       "       1.25334592e+00, 1.25987732e+00, 1.26605795e+00, 1.27217138e+00,\n",
       "       1.27933713e+00, 1.28542980e+00, 1.29020077e+00, 1.29754409e+00,\n",
       "       1.30295078e+00, 1.30861345e+00, 1.31436572e+00, 1.32069496e+00,\n",
       "       1.32649531e+00, 1.33179956e+00, 1.33740458e+00, 1.34130572e+00,\n",
       "       1.34670066e+00, 1.35257532e+00, 1.35789540e+00, 1.36315812e+00,\n",
       "       1.36808864e+00, 1.37424413e+00, 1.38058212e+00, 1.38592734e+00,\n",
       "       1.39173534e+00, 1.39841509e+00, 1.40367781e+00, 1.40820947e+00,\n",
       "       1.41392486e+00, 1.41989349e+00, 1.42605063e+00, 1.43255690e+00,\n",
       "       1.43887085e+00, 1.44512033e+00, 1.45214757e+00, 1.45787908e+00,\n",
       "       1.46338657e+00, 1.46663616e+00, 1.46950355e+00, 1.47377404e+00,\n",
       "       1.47762273e+00, 1.48200004e+00, 1.48738515e+00, 1.49315791e+00,\n",
       "       1.49939919e+00, 1.50324924e+00, 1.50606418e+00, 1.51107993e+00,\n",
       "       1.51836015e+00, 1.52563081e+00, 1.53117463e+00, 1.53630403e+00,\n",
       "       1.54140994e+00, 1.54548100e+00, 1.54986187e+00, 1.55547863e+00,\n",
       "       1.56074135e+00, 1.56566558e+00, 1.56729762e+00, 1.57146785e+00,\n",
       "       1.57695567e+00, 1.58176981e+00, 1.58584470e+00, 1.59014115e+00,\n",
       "       1.59537326e+00, 1.59868869e+00, 1.60297229e+00, 1.60956216e+00,\n",
       "       1.61219680e+00, 1.61489482e+00, 1.61772314e+00, 1.62006273e+00,\n",
       "       1.62278780e+00, 1.62687033e+00, 1.63182626e+00, 1.63513075e+00,\n",
       "       1.64072949e+00, 1.64368895e+00, 1.64820969e+00, 1.65406058e+00,\n",
       "       1.65835183e+00, 1.66107525e+00, 1.66393828e+00, 1.66700237e+00,\n",
       "       1.67167172e+00, 1.67656727e+00, 1.68099184e+00, 1.68384065e+00,\n",
       "       1.68820840e+00, 1.69163146e+00, 1.69457535e+00, 1.69684828e+00,\n",
       "       1.69781592e+00, 1.69995827e+00, 1.70176896e+00, 1.70311524e+00,\n",
       "       1.70365834e+00, 1.70777694e+00, 1.71223812e+00, 1.71374995e+00,\n",
       "       1.71509404e+00, 1.71872691e+00, 1.72229203e+00, 1.72318699e+00,\n",
       "       1.72283622e+00, 1.72308100e+00, 1.72723648e+00, 1.72804839e+00,\n",
       "       1.73094529e+00, 1.73285106e+00, 1.73403752e+00, 1.73652737e+00,\n",
       "       1.73954774e+00, 1.74389145e+00, 1.74682277e+00, 1.74706755e+00,\n",
       "       1.74959564e+00, 1.75023026e+00, 1.75168581e+00, 1.75308563e+00,\n",
       "       1.75307798e+00, 1.75319272e+00, 1.75536403e+00, 1.75637592e+00,\n",
       "       1.75649831e+00, 1.75949247e+00, 1.76276363e+00, 1.76560917e+00,\n",
       "       1.76814600e+00, 1.77014630e+00, 1.77088746e+00, 1.77097488e+00,\n",
       "       1.77197885e+00, 1.77093472e+00, 1.77068994e+00, 1.77126173e+00,\n",
       "       1.77136007e+00, 1.77251430e+00, 1.77305740e+00, 1.77451896e+00,\n",
       "       1.77734374e+00, 1.77916345e+00, 1.77961093e+00, 1.78175164e+00,\n",
       "       1.78248598e+00, 1.78310666e+00, 1.78312032e+00, 1.78454200e+00,\n",
       "       1.78532933e+00, 1.78532277e+00, 1.78487338e+00, 1.78346481e+00,\n",
       "       1.78238599e+00, 1.78228764e+00, 1.78351153e+00, 1.78528862e+00,\n",
       "       1.78538369e+00, 1.78518208e+00, 1.78602350e+00, 1.78750473e+00,\n",
       "       1.78876905e+00, 1.78987055e+00, 1.79088026e+00, 1.79112504e+00,\n",
       "       1.78978941e+00, 1.78865841e+00, 1.78830654e+00, 1.78738644e+00,\n",
       "       1.78636936e+00, 1.78729602e+00, 1.79066799e+00, 1.79326001e+00,\n",
       "       1.79106603e+00, 1.79033170e+00, 1.78947880e+00, 1.78788966e+00,\n",
       "       1.78708320e+00, 1.78513509e+00, 1.78313699e+00, 1.78279331e+00,\n",
       "       1.78408714e+00, 1.78568393e+00, 1.78493539e+00, 1.78395628e+00,\n",
       "       1.78471056e+00, 1.78485589e+00, 1.78415434e+00, 1.78214258e+00,\n",
       "       1.77915088e+00, 1.77639714e+00, 1.77456131e+00, 1.77288775e+00,\n",
       "       1.77226406e+00, 1.77483422e+00, 1.77301478e+00, 1.77317870e+00,\n",
       "       1.77459054e+00, 1.77616247e+00, 1.77643784e+00, 1.77550791e+00,\n",
       "       1.77434576e+00, 1.77167889e+00, 1.77094455e+00, 1.77021022e+00,\n",
       "       1.76848995e+00, 1.76694097e+00, 1.76490052e+00, 1.76359140e+00,\n",
       "       1.76224075e+00, 1.76059069e+00, 1.76030520e+00, 1.75871852e+00,\n",
       "       1.75492447e+00, 1.75281709e+00, 1.75244118e+00, 1.75092962e+00,\n",
       "       1.74967951e+00, 1.74940550e+00, 1.74914215e+00, 1.74808928e+00,\n",
       "       1.74677360e+00, 1.74517735e+00, 1.74505497e+00, 1.74317051e+00,\n",
       "       1.74255829e+00, 1.74290797e+00, 1.74170375e+00, 1.73987229e+00,\n",
       "       1.73766547e+00, 1.73428558e+00, 1.73102916e+00, 1.72636200e+00,\n",
       "       1.72611722e+00, 1.72564351e+00, 1.72455075e+00, 1.72272066e+00,\n",
       "       1.71962269e+00, 1.71694462e+00, 1.71525194e+00, 1.71348004e+00,\n",
       "       1.71252169e+00, 1.71089157e+00, 1.70770946e+00, 1.70385859e+00,\n",
       "       1.69945451e+00, 1.69726681e+00, 1.69525969e+00, 1.69301298e+00,\n",
       "       1.69117414e+00, 1.68948365e+00, 1.68929761e+00, 1.69052149e+00]), minimum=0.10220440881763526, maximum=1.0, name='a_1', latex_label='$a_1$', unit=None, boundary=None)"
      ]
     },
     "execution_count": 4,
     "metadata": {},
     "output_type": "execute_result"
    }
   ],
   "source": [
    "a1_prior"
   ]
  },
  {
   "cell_type": "code",
   "execution_count": 21,
   "metadata": {},
   "outputs": [
    {
     "name": "stdout",
     "output_type": "stream",
     "text": [
      "[0.  0.1 0.2 0.3 0.4 0.5 0.6 0.7 0.8 0.9 1. ]\n",
      "[-1.  -0.8 -0.6 -0.4 -0.2  0.   0.2  0.4  0.6  0.8  1. ]\n"
     ]
    }
   ],
   "source": [
    "q_range = np.linspace(0, 1, 11)    # q range 0 to 1\n",
    "xeff_range = np.linspace(-1, 1, 11)  # xeff range -1 to 1\n",
    "print(q_range)\n",
    "print(xeff_range)"
   ]
  },
  {
   "cell_type": "markdown",
   "metadata": {},
   "source": [
    "### Generate data and save"
   ]
  },
  {
   "cell_type": "code",
   "execution_count": 22,
   "metadata": {},
   "outputs": [
    {
     "name": "stderr",
     "output_type": "stream",
     "text": [
      "Building a1 cache:   0%|          | 0/500 [00:00<?, ?it/s]"
     ]
    },
    {
     "name": "stdout",
     "output_type": "stream",
     "text": [
      "q=0.0, xeff=-1.0\n"
     ]
    },
    {
     "name": "stderr",
     "output_type": "stream",
     "text": [
      "[Parallel(n_jobs=8)]: Using backend LokyBackend with 8 concurrent workers.\n",
      "Building a1 cache:  10%|▉         | 48/500 [00:02<00:27, 16.29it/s][Parallel(n_jobs=8)]: Done  34 tasks      | elapsed:    2.9s\n",
      "Building a1 cache:  38%|███▊      | 192/500 [00:14<00:25, 12.04it/s][Parallel(n_jobs=8)]: Done 184 tasks      | elapsed:   14.6s\n",
      "Building a1 cache:  90%|████████▉ | 448/500 [00:35<00:04, 11.54it/s][Parallel(n_jobs=8)]: Done 434 tasks      | elapsed:   35.5s\n",
      "Building a1 cache: 100%|██████████| 500/500 [00:39<00:00, 12.58it/s]\n",
      "[Parallel(n_jobs=8)]: Done 500 out of 500 | elapsed:   41.1s finished\n",
      "<ipython-input-2-aa2845171f48>:26: RuntimeWarning: invalid value encountered in true_divide\n",
      "  p_a1 = p_a1 / np.sum(p_a1) / da1\n",
      "Building a1 cache:   0%|          | 0/500 [00:00<?, ?it/s][Parallel(n_jobs=8)]: Using backend LokyBackend with 8 concurrent workers.\n"
     ]
    },
    {
     "name": "stdout",
     "output_type": "stream",
     "text": [
      "q=0.0, xeff=-0.8\n"
     ]
    },
    {
     "name": "stderr",
     "output_type": "stream",
     "text": [
      "Building a1 cache:  10%|▉         | 48/500 [00:03<00:34, 13.09it/s][Parallel(n_jobs=8)]: Done  34 tasks      | elapsed:    3.5s\n",
      "Building a1 cache:  38%|███▊      | 192/500 [00:16<00:29, 10.30it/s][Parallel(n_jobs=8)]: Done 184 tasks      | elapsed:   16.9s\n",
      "Building a1 cache:  90%|████████▉ | 448/500 [00:40<00:04, 11.14it/s][Parallel(n_jobs=8)]: Done 434 tasks      | elapsed:   40.9s\n",
      "Building a1 cache: 100%|██████████| 500/500 [00:45<00:00, 11.11it/s]\n",
      "[Parallel(n_jobs=8)]: Done 500 out of 500 | elapsed:   46.5s finished\n",
      "<ipython-input-2-aa2845171f48>:26: RuntimeWarning: invalid value encountered in true_divide\n",
      "  p_a1 = p_a1 / np.sum(p_a1) / da1\n",
      "Building a1 cache:   0%|          | 0/500 [00:00<?, ?it/s][Parallel(n_jobs=8)]: Using backend LokyBackend with 8 concurrent workers.\n"
     ]
    },
    {
     "name": "stdout",
     "output_type": "stream",
     "text": [
      "q=0.0, xeff=-0.6\n"
     ]
    },
    {
     "name": "stderr",
     "output_type": "stream",
     "text": [
      "Building a1 cache:  10%|▉         | 48/500 [00:03<00:34, 13.05it/s][Parallel(n_jobs=8)]: Done  34 tasks      | elapsed:    3.5s\n",
      "Building a1 cache:  38%|███▊      | 192/500 [00:15<00:25, 11.91it/s][Parallel(n_jobs=8)]: Done 184 tasks      | elapsed:   16.4s\n",
      "Building a1 cache:  90%|████████▉ | 448/500 [00:37<00:04, 11.61it/s][Parallel(n_jobs=8)]: Done 434 tasks      | elapsed:   37.8s\n",
      "Building a1 cache: 100%|██████████| 500/500 [00:41<00:00, 11.94it/s]\n",
      "[Parallel(n_jobs=8)]: Done 500 out of 500 | elapsed:   43.4s finished\n",
      "<ipython-input-2-aa2845171f48>:26: RuntimeWarning: invalid value encountered in true_divide\n",
      "  p_a1 = p_a1 / np.sum(p_a1) / da1\n",
      "Building a1 cache:   0%|          | 0/500 [00:00<?, ?it/s][Parallel(n_jobs=8)]: Using backend LokyBackend with 8 concurrent workers.\n"
     ]
    },
    {
     "name": "stdout",
     "output_type": "stream",
     "text": [
      "q=0.0, xeff=-0.3999999999999999\n"
     ]
    },
    {
     "name": "stderr",
     "output_type": "stream",
     "text": [
      "Building a1 cache:  10%|▉         | 48/500 [00:03<00:33, 13.40it/s][Parallel(n_jobs=8)]: Done  34 tasks      | elapsed:    3.4s\n",
      "Building a1 cache:  38%|███▊      | 192/500 [00:15<00:25, 11.90it/s][Parallel(n_jobs=8)]: Done 184 tasks      | elapsed:   16.1s\n",
      "Building a1 cache:  90%|████████▉ | 448/500 [00:36<00:04, 12.24it/s][Parallel(n_jobs=8)]: Done 434 tasks      | elapsed:   37.1s\n",
      "Building a1 cache: 100%|██████████| 500/500 [00:41<00:00, 12.17it/s]\n",
      "[Parallel(n_jobs=8)]: Done 500 out of 500 | elapsed:   42.5s finished\n",
      "<ipython-input-2-aa2845171f48>:26: RuntimeWarning: invalid value encountered in true_divide\n",
      "  p_a1 = p_a1 / np.sum(p_a1) / da1\n",
      "Building a1 cache:   0%|          | 0/500 [00:00<?, ?it/s][Parallel(n_jobs=8)]: Using backend LokyBackend with 8 concurrent workers.\n"
     ]
    },
    {
     "name": "stdout",
     "output_type": "stream",
     "text": [
      "q=0.0, xeff=-0.19999999999999996\n"
     ]
    },
    {
     "name": "stderr",
     "output_type": "stream",
     "text": [
      "Building a1 cache:  10%|▉         | 48/500 [00:03<00:33, 13.63it/s][Parallel(n_jobs=8)]: Done  34 tasks      | elapsed:    3.4s\n",
      "Building a1 cache:  38%|███▊      | 192/500 [00:15<00:25, 12.20it/s][Parallel(n_jobs=8)]: Done 184 tasks      | elapsed:   15.8s\n",
      "Building a1 cache:  90%|████████▉ | 448/500 [00:36<00:04, 11.57it/s][Parallel(n_jobs=8)]: Done 434 tasks      | elapsed:   36.9s\n",
      "Building a1 cache: 100%|██████████| 500/500 [00:40<00:00, 12.21it/s]\n",
      "[Parallel(n_jobs=8)]: Done 500 out of 500 | elapsed:   42.4s finished\n",
      "<ipython-input-2-aa2845171f48>:26: RuntimeWarning: invalid value encountered in true_divide\n",
      "  p_a1 = p_a1 / np.sum(p_a1) / da1\n",
      "Building a1 cache:   0%|          | 0/500 [00:00<?, ?it/s][Parallel(n_jobs=8)]: Using backend LokyBackend with 8 concurrent workers.\n"
     ]
    },
    {
     "name": "stdout",
     "output_type": "stream",
     "text": [
      "q=0.0, xeff=0.0\n"
     ]
    },
    {
     "name": "stderr",
     "output_type": "stream",
     "text": [
      "Building a1 cache:  10%|▉         | 48/500 [00:03<00:32, 13.80it/s][Parallel(n_jobs=8)]: Done  34 tasks      | elapsed:    3.3s\n",
      "Building a1 cache:  38%|███▊      | 192/500 [00:15<00:25, 12.32it/s][Parallel(n_jobs=8)]: Done 184 tasks      | elapsed:   16.0s\n",
      "Building a1 cache:  90%|████████▉ | 448/500 [00:37<00:04, 11.64it/s][Parallel(n_jobs=8)]: Done 434 tasks      | elapsed:   37.1s\n",
      "Building a1 cache: 100%|██████████| 500/500 [00:41<00:00, 12.15it/s]\n",
      "[Parallel(n_jobs=8)]: Done 500 out of 500 | elapsed:   42.4s finished\n",
      "<ipython-input-2-aa2845171f48>:26: RuntimeWarning: invalid value encountered in true_divide\n",
      "  p_a1 = p_a1 / np.sum(p_a1) / da1\n",
      "Building a1 cache:   0%|          | 0/500 [00:00<?, ?it/s][Parallel(n_jobs=8)]: Using backend LokyBackend with 8 concurrent workers.\n"
     ]
    },
    {
     "name": "stdout",
     "output_type": "stream",
     "text": [
      "q=0.0, xeff=0.20000000000000018\n"
     ]
    },
    {
     "name": "stderr",
     "output_type": "stream",
     "text": [
      "Building a1 cache:  10%|▉         | 48/500 [00:03<00:33, 13.30it/s][Parallel(n_jobs=8)]: Done  34 tasks      | elapsed:    3.4s\n",
      "Building a1 cache:  38%|███▊      | 192/500 [00:15<00:25, 12.25it/s][Parallel(n_jobs=8)]: Done 184 tasks      | elapsed:   15.9s\n",
      "Building a1 cache:  90%|████████▉ | 448/500 [00:36<00:04, 11.63it/s][Parallel(n_jobs=8)]: Done 434 tasks      | elapsed:   37.0s\n",
      "Building a1 cache: 100%|██████████| 500/500 [00:40<00:00, 12.21it/s]\n",
      "[Parallel(n_jobs=8)]: Done 500 out of 500 | elapsed:   42.4s finished\n",
      "<ipython-input-2-aa2845171f48>:26: RuntimeWarning: invalid value encountered in true_divide\n",
      "  p_a1 = p_a1 / np.sum(p_a1) / da1\n",
      "Building a1 cache:   0%|          | 0/500 [00:00<?, ?it/s][Parallel(n_jobs=8)]: Using backend LokyBackend with 8 concurrent workers.\n"
     ]
    },
    {
     "name": "stdout",
     "output_type": "stream",
     "text": [
      "q=0.0, xeff=0.40000000000000013\n"
     ]
    },
    {
     "name": "stderr",
     "output_type": "stream",
     "text": [
      "Building a1 cache:  10%|▉         | 48/500 [00:03<00:34, 13.25it/s][Parallel(n_jobs=8)]: Done  34 tasks      | elapsed:    3.5s\n",
      "Building a1 cache:  38%|███▊      | 192/500 [00:15<00:25, 12.02it/s][Parallel(n_jobs=8)]: Done 184 tasks      | elapsed:   16.0s\n",
      "Building a1 cache:  90%|████████▉ | 448/500 [00:37<00:04, 11.73it/s][Parallel(n_jobs=8)]: Done 434 tasks      | elapsed:   37.3s\n",
      "Building a1 cache: 100%|██████████| 500/500 [00:41<00:00, 12.08it/s]\n",
      "[Parallel(n_jobs=8)]: Done 500 out of 500 | elapsed:   42.8s finished\n",
      "<ipython-input-2-aa2845171f48>:26: RuntimeWarning: invalid value encountered in true_divide\n",
      "  p_a1 = p_a1 / np.sum(p_a1) / da1\n",
      "Building a1 cache:   0%|          | 0/500 [00:00<?, ?it/s][Parallel(n_jobs=8)]: Using backend LokyBackend with 8 concurrent workers.\n"
     ]
    },
    {
     "name": "stdout",
     "output_type": "stream",
     "text": [
      "q=0.0, xeff=0.6000000000000001\n"
     ]
    },
    {
     "name": "stderr",
     "output_type": "stream",
     "text": [
      "Building a1 cache:  10%|▉         | 48/500 [00:03<00:33, 13.60it/s][Parallel(n_jobs=8)]: Done  34 tasks      | elapsed:    3.4s\n",
      "Building a1 cache:  38%|███▊      | 192/500 [00:15<00:25, 11.99it/s][Parallel(n_jobs=8)]: Done 184 tasks      | elapsed:   16.1s\n",
      "Building a1 cache:  90%|████████▉ | 448/500 [00:37<00:04, 11.90it/s][Parallel(n_jobs=8)]: Done 434 tasks      | elapsed:   37.3s\n",
      "Building a1 cache: 100%|██████████| 500/500 [00:41<00:00, 12.13it/s]\n",
      "[Parallel(n_jobs=8)]: Done 500 out of 500 | elapsed:   42.8s finished\n",
      "<ipython-input-2-aa2845171f48>:26: RuntimeWarning: invalid value encountered in true_divide\n",
      "  p_a1 = p_a1 / np.sum(p_a1) / da1\n",
      "Building a1 cache:   0%|          | 0/500 [00:00<?, ?it/s][Parallel(n_jobs=8)]: Using backend LokyBackend with 8 concurrent workers.\n"
     ]
    },
    {
     "name": "stdout",
     "output_type": "stream",
     "text": [
      "q=0.0, xeff=0.8\n"
     ]
    },
    {
     "name": "stderr",
     "output_type": "stream",
     "text": [
      "Building a1 cache:  10%|▉         | 48/500 [00:03<00:33, 13.31it/s][Parallel(n_jobs=8)]: Done  34 tasks      | elapsed:    3.4s\n",
      "Building a1 cache:  38%|███▊      | 192/500 [00:15<00:25, 11.89it/s][Parallel(n_jobs=8)]: Done 184 tasks      | elapsed:   16.0s\n",
      "Building a1 cache:  90%|████████▉ | 448/500 [00:37<00:04, 12.06it/s][Parallel(n_jobs=8)]: Done 434 tasks      | elapsed:   37.1s\n",
      "Building a1 cache: 100%|██████████| 500/500 [00:41<00:00, 12.13it/s]\n",
      "[Parallel(n_jobs=8)]: Done 500 out of 500 | elapsed:   42.6s finished\n",
      "<ipython-input-2-aa2845171f48>:26: RuntimeWarning: invalid value encountered in true_divide\n",
      "  p_a1 = p_a1 / np.sum(p_a1) / da1\n",
      "Building a1 cache:   0%|          | 0/500 [00:00<?, ?it/s][Parallel(n_jobs=8)]: Using backend LokyBackend with 8 concurrent workers.\n"
     ]
    },
    {
     "name": "stdout",
     "output_type": "stream",
     "text": [
      "q=0.0, xeff=1.0\n"
     ]
    },
    {
     "name": "stderr",
     "output_type": "stream",
     "text": [
      "Building a1 cache:  10%|▉         | 48/500 [00:03<00:33, 13.38it/s][Parallel(n_jobs=8)]: Done  34 tasks      | elapsed:    3.5s\n",
      "Building a1 cache:  38%|███▊      | 192/500 [00:15<00:25, 11.90it/s][Parallel(n_jobs=8)]: Done 184 tasks      | elapsed:   16.1s\n",
      "Building a1 cache:  90%|████████▉ | 448/500 [00:37<00:04, 11.63it/s][Parallel(n_jobs=8)]: Done 434 tasks      | elapsed:   37.3s\n",
      "Building a1 cache: 100%|██████████| 500/500 [00:41<00:00, 12.10it/s]\n",
      "[Parallel(n_jobs=8)]: Done 500 out of 500 | elapsed:   42.7s finished\n",
      "<ipython-input-2-aa2845171f48>:26: RuntimeWarning: invalid value encountered in true_divide\n",
      "  p_a1 = p_a1 / np.sum(p_a1) / da1\n",
      "Building a1 cache:   0%|          | 0/500 [00:00<?, ?it/s][Parallel(n_jobs=8)]: Using backend LokyBackend with 8 concurrent workers.\n"
     ]
    },
    {
     "name": "stdout",
     "output_type": "stream",
     "text": [
      "q=0.1, xeff=-1.0\n"
     ]
    },
    {
     "name": "stderr",
     "output_type": "stream",
     "text": [
      "Building a1 cache:  10%|▉         | 48/500 [00:02<00:22, 20.18it/s][Parallel(n_jobs=8)]: Done  34 tasks      | elapsed:    2.3s\n",
      "Building a1 cache:  38%|███▊      | 192/500 [00:10<00:16, 18.44it/s][Parallel(n_jobs=8)]: Done 184 tasks      | elapsed:   10.4s\n",
      "Building a1 cache:  90%|████████▉ | 448/500 [00:24<00:02, 18.10it/s][Parallel(n_jobs=8)]: Done 434 tasks      | elapsed:   24.3s\n",
      "Building a1 cache: 100%|██████████| 500/500 [00:27<00:00, 18.51it/s]\n",
      "[Parallel(n_jobs=8)]: Done 500 out of 500 | elapsed:   28.0s finished\n",
      "<ipython-input-2-aa2845171f48>:26: RuntimeWarning: invalid value encountered in true_divide\n",
      "  p_a1 = p_a1 / np.sum(p_a1) / da1\n",
      "Building a1 cache:   0%|          | 0/500 [00:00<?, ?it/s]"
     ]
    },
    {
     "name": "stdout",
     "output_type": "stream",
     "text": [
      "q=0.1, xeff=-0.8\n"
     ]
    },
    {
     "name": "stderr",
     "output_type": "stream",
     "text": [
      "[Parallel(n_jobs=8)]: Using backend LokyBackend with 8 concurrent workers.\n",
      "Building a1 cache:  10%|▉         | 48/500 [00:02<00:21, 20.55it/s][Parallel(n_jobs=8)]: Done  34 tasks      | elapsed:    2.3s\n",
      "Building a1 cache:  38%|███▊      | 192/500 [00:10<00:16, 18.42it/s][Parallel(n_jobs=8)]: Done 184 tasks      | elapsed:   10.5s\n",
      "Building a1 cache:  90%|████████▉ | 448/500 [00:24<00:02, 17.61it/s][Parallel(n_jobs=8)]: Done 434 tasks      | elapsed:   24.4s\n",
      "Building a1 cache: 100%|██████████| 500/500 [00:26<00:00, 18.56it/s]\n",
      "[Parallel(n_jobs=8)]: Done 500 out of 500 | elapsed:   27.8s finished\n",
      "Building a1 cache:   0%|          | 0/500 [00:00<?, ?it/s][Parallel(n_jobs=8)]: Using backend LokyBackend with 8 concurrent workers.\n"
     ]
    },
    {
     "name": "stdout",
     "output_type": "stream",
     "text": [
      "q=0.1, xeff=-0.6\n"
     ]
    },
    {
     "name": "stderr",
     "output_type": "stream",
     "text": [
      "Building a1 cache:  10%|▉         | 48/500 [00:02<00:21, 20.80it/s][Parallel(n_jobs=8)]: Done  34 tasks      | elapsed:    2.2s\n",
      "Building a1 cache:  38%|███▊      | 192/500 [00:09<00:16, 18.76it/s][Parallel(n_jobs=8)]: Done 184 tasks      | elapsed:   10.3s\n",
      "Building a1 cache:  90%|████████▉ | 448/500 [00:24<00:02, 17.86it/s][Parallel(n_jobs=8)]: Done 434 tasks      | elapsed:   24.2s\n",
      "Building a1 cache: 100%|██████████| 500/500 [00:26<00:00, 18.65it/s]\n",
      "[Parallel(n_jobs=8)]: Done 500 out of 500 | elapsed:   27.7s finished\n",
      "Building a1 cache:   0%|          | 0/500 [00:00<?, ?it/s][Parallel(n_jobs=8)]: Using backend LokyBackend with 8 concurrent workers.\n"
     ]
    },
    {
     "name": "stdout",
     "output_type": "stream",
     "text": [
      "q=0.1, xeff=-0.3999999999999999\n"
     ]
    },
    {
     "name": "stderr",
     "output_type": "stream",
     "text": [
      "Building a1 cache:  10%|▉         | 48/500 [00:02<00:21, 20.83it/s][Parallel(n_jobs=8)]: Done  34 tasks      | elapsed:    2.2s\n",
      "Building a1 cache:  38%|███▊      | 192/500 [00:10<00:16, 18.43it/s][Parallel(n_jobs=8)]: Done 184 tasks      | elapsed:   10.3s\n",
      "Building a1 cache:  90%|████████▉ | 448/500 [00:24<00:02, 17.59it/s][Parallel(n_jobs=8)]: Done 434 tasks      | elapsed:   24.2s\n",
      "Building a1 cache: 100%|██████████| 500/500 [00:26<00:00, 18.59it/s]\n",
      "[Parallel(n_jobs=8)]: Done 500 out of 500 | elapsed:   27.8s finished\n",
      "Building a1 cache:   0%|          | 0/500 [00:00<?, ?it/s][Parallel(n_jobs=8)]: Using backend LokyBackend with 8 concurrent workers.\n"
     ]
    },
    {
     "name": "stdout",
     "output_type": "stream",
     "text": [
      "q=0.1, xeff=-0.19999999999999996\n"
     ]
    },
    {
     "name": "stderr",
     "output_type": "stream",
     "text": [
      "Building a1 cache:  10%|▉         | 48/500 [00:02<00:22, 20.51it/s][Parallel(n_jobs=8)]: Done  34 tasks      | elapsed:    2.2s\n",
      "Building a1 cache:  38%|███▊      | 192/500 [00:10<00:16, 18.51it/s][Parallel(n_jobs=8)]: Done 184 tasks      | elapsed:   10.3s\n",
      "Building a1 cache:  90%|████████▉ | 448/500 [00:24<00:02, 17.70it/s][Parallel(n_jobs=8)]: Done 434 tasks      | elapsed:   24.1s\n",
      "Building a1 cache: 100%|██████████| 500/500 [00:26<00:00, 18.60it/s]\n",
      "[Parallel(n_jobs=8)]: Done 500 out of 500 | elapsed:   27.9s finished\n",
      "Building a1 cache:   0%|          | 0/500 [00:00<?, ?it/s][Parallel(n_jobs=8)]: Using backend LokyBackend with 8 concurrent workers.\n"
     ]
    },
    {
     "name": "stdout",
     "output_type": "stream",
     "text": [
      "q=0.1, xeff=0.0\n"
     ]
    },
    {
     "name": "stderr",
     "output_type": "stream",
     "text": [
      "Building a1 cache:  10%|▉         | 48/500 [00:02<00:23, 19.34it/s][Parallel(n_jobs=8)]: Done  34 tasks      | elapsed:    2.4s\n",
      "Building a1 cache:  38%|███▊      | 192/500 [00:11<00:21, 14.34it/s][Parallel(n_jobs=8)]: Done 184 tasks      | elapsed:   12.0s\n",
      "Building a1 cache:  90%|████████▉ | 448/500 [00:26<00:03, 17.05it/s][Parallel(n_jobs=8)]: Done 434 tasks      | elapsed:   27.0s\n",
      "Building a1 cache: 100%|██████████| 500/500 [00:29<00:00, 16.82it/s]\n",
      "[Parallel(n_jobs=8)]: Done 500 out of 500 | elapsed:   30.6s finished\n",
      "Building a1 cache:   0%|          | 0/500 [00:00<?, ?it/s][Parallel(n_jobs=8)]: Using backend LokyBackend with 8 concurrent workers.\n"
     ]
    },
    {
     "name": "stdout",
     "output_type": "stream",
     "text": [
      "q=0.1, xeff=0.20000000000000018\n"
     ]
    },
    {
     "name": "stderr",
     "output_type": "stream",
     "text": [
      "Building a1 cache:  10%|▉         | 48/500 [00:02<00:21, 20.85it/s][Parallel(n_jobs=8)]: Done  34 tasks      | elapsed:    2.3s\n",
      "Building a1 cache:  38%|███▊      | 192/500 [00:10<00:18, 16.99it/s][Parallel(n_jobs=8)]: Done 184 tasks      | elapsed:   10.6s\n",
      "Building a1 cache:  90%|████████▉ | 448/500 [00:26<00:03, 16.19it/s][Parallel(n_jobs=8)]: Done 434 tasks      | elapsed:   26.3s\n",
      "Building a1 cache: 100%|██████████| 500/500 [00:29<00:00, 17.10it/s]\n",
      "[Parallel(n_jobs=8)]: Done 500 out of 500 | elapsed:   30.3s finished\n",
      "Building a1 cache:   0%|          | 0/500 [00:00<?, ?it/s][Parallel(n_jobs=8)]: Using backend LokyBackend with 8 concurrent workers.\n"
     ]
    },
    {
     "name": "stdout",
     "output_type": "stream",
     "text": [
      "q=0.1, xeff=0.40000000000000013\n"
     ]
    },
    {
     "name": "stderr",
     "output_type": "stream",
     "text": [
      "Building a1 cache:  10%|▉         | 48/500 [00:02<00:25, 17.67it/s][Parallel(n_jobs=8)]: Done  34 tasks      | elapsed:    2.6s\n",
      "Building a1 cache:  38%|███▊      | 192/500 [00:10<00:16, 18.24it/s][Parallel(n_jobs=8)]: Done 184 tasks      | elapsed:   11.0s\n",
      "Building a1 cache:  90%|████████▉ | 448/500 [00:24<00:02, 17.70it/s][Parallel(n_jobs=8)]: Done 434 tasks      | elapsed:   24.7s\n",
      "Building a1 cache: 100%|██████████| 500/500 [00:27<00:00, 18.18it/s]\n",
      "[Parallel(n_jobs=8)]: Done 500 out of 500 | elapsed:   28.4s finished\n",
      "Building a1 cache:   0%|          | 0/500 [00:00<?, ?it/s][Parallel(n_jobs=8)]: Using backend LokyBackend with 8 concurrent workers.\n"
     ]
    },
    {
     "name": "stdout",
     "output_type": "stream",
     "text": [
      "q=0.1, xeff=0.6000000000000001\n"
     ]
    },
    {
     "name": "stderr",
     "output_type": "stream",
     "text": [
      "Building a1 cache:  10%|▉         | 48/500 [00:02<00:21, 21.12it/s][Parallel(n_jobs=8)]: Done  34 tasks      | elapsed:    2.2s\n",
      "Building a1 cache:  38%|███▊      | 192/500 [00:09<00:16, 18.42it/s][Parallel(n_jobs=8)]: Done 184 tasks      | elapsed:   10.3s\n",
      "Building a1 cache:  90%|████████▉ | 448/500 [00:24<00:02, 17.48it/s][Parallel(n_jobs=8)]: Done 434 tasks      | elapsed:   24.2s\n",
      "Building a1 cache: 100%|██████████| 500/500 [00:26<00:00, 18.66it/s]\n",
      "[Parallel(n_jobs=8)]: Done 500 out of 500 | elapsed:   27.7s finished\n",
      "Building a1 cache:   0%|          | 0/500 [00:00<?, ?it/s][Parallel(n_jobs=8)]: Using backend LokyBackend with 8 concurrent workers.\n"
     ]
    },
    {
     "name": "stdout",
     "output_type": "stream",
     "text": [
      "q=0.1, xeff=0.8\n"
     ]
    },
    {
     "name": "stderr",
     "output_type": "stream",
     "text": [
      "Building a1 cache:  10%|▉         | 48/500 [00:02<00:23, 19.08it/s][Parallel(n_jobs=8)]: Done  34 tasks      | elapsed:    2.4s\n",
      "Building a1 cache:  38%|███▊      | 192/500 [00:10<00:16, 18.55it/s][Parallel(n_jobs=8)]: Done 184 tasks      | elapsed:   10.5s\n",
      "Building a1 cache:  90%|████████▉ | 448/500 [00:24<00:02, 18.11it/s][Parallel(n_jobs=8)]: Done 434 tasks      | elapsed:   24.4s\n",
      "Building a1 cache: 100%|██████████| 500/500 [00:27<00:00, 18.52it/s]\n",
      "[Parallel(n_jobs=8)]: Done 500 out of 500 | elapsed:   27.9s finished\n",
      "Building a1 cache:   0%|          | 0/500 [00:00<?, ?it/s][Parallel(n_jobs=8)]: Using backend LokyBackend with 8 concurrent workers.\n"
     ]
    },
    {
     "name": "stdout",
     "output_type": "stream",
     "text": [
      "q=0.1, xeff=1.0\n"
     ]
    },
    {
     "name": "stderr",
     "output_type": "stream",
     "text": [
      "Building a1 cache:  10%|▉         | 48/500 [00:02<00:21, 20.73it/s][Parallel(n_jobs=8)]: Done  34 tasks      | elapsed:    2.2s\n",
      "Building a1 cache:  38%|███▊      | 192/500 [00:09<00:16, 18.65it/s][Parallel(n_jobs=8)]: Done 184 tasks      | elapsed:   10.3s\n",
      "Building a1 cache:  90%|████████▉ | 448/500 [00:24<00:02, 18.40it/s][Parallel(n_jobs=8)]: Done 434 tasks      | elapsed:   24.2s\n",
      "Building a1 cache: 100%|██████████| 500/500 [00:26<00:00, 18.69it/s]\n",
      "[Parallel(n_jobs=8)]: Done 500 out of 500 | elapsed:   27.7s finished\n",
      "<ipython-input-2-aa2845171f48>:26: RuntimeWarning: invalid value encountered in true_divide\n",
      "  p_a1 = p_a1 / np.sum(p_a1) / da1\n",
      "Building a1 cache:   0%|          | 0/500 [00:00<?, ?it/s][Parallel(n_jobs=8)]: Using backend LokyBackend with 8 concurrent workers.\n"
     ]
    },
    {
     "name": "stdout",
     "output_type": "stream",
     "text": [
      "q=0.2, xeff=-1.0\n"
     ]
    },
    {
     "name": "stderr",
     "output_type": "stream",
     "text": [
      "Building a1 cache:  10%|▉         | 48/500 [00:02<00:22, 20.35it/s][Parallel(n_jobs=8)]: Done  34 tasks      | elapsed:    2.3s\n",
      "Building a1 cache:  38%|███▊      | 192/500 [00:10<00:16, 18.55it/s][Parallel(n_jobs=8)]: Done 184 tasks      | elapsed:   10.5s\n",
      "Building a1 cache:  90%|████████▉ | 448/500 [00:24<00:02, 18.17it/s][Parallel(n_jobs=8)]: Done 434 tasks      | elapsed:   24.3s\n",
      "Building a1 cache: 100%|██████████| 500/500 [00:27<00:00, 18.50it/s]\n",
      "[Parallel(n_jobs=8)]: Done 500 out of 500 | elapsed:   27.9s finished\n",
      "<ipython-input-2-aa2845171f48>:26: RuntimeWarning: invalid value encountered in true_divide\n",
      "  p_a1 = p_a1 / np.sum(p_a1) / da1\n",
      "Building a1 cache:   0%|          | 0/500 [00:00<?, ?it/s][Parallel(n_jobs=8)]: Using backend LokyBackend with 8 concurrent workers.\n"
     ]
    },
    {
     "name": "stdout",
     "output_type": "stream",
     "text": [
      "q=0.2, xeff=-0.8\n"
     ]
    },
    {
     "name": "stderr",
     "output_type": "stream",
     "text": [
      "Building a1 cache:  10%|▉         | 48/500 [00:02<00:22, 20.51it/s][Parallel(n_jobs=8)]: Done  34 tasks      | elapsed:    2.3s\n",
      "Building a1 cache:  38%|███▊      | 192/500 [00:10<00:16, 18.27it/s][Parallel(n_jobs=8)]: Done 184 tasks      | elapsed:   10.4s\n",
      "Building a1 cache:  90%|████████▉ | 448/500 [00:24<00:02, 18.38it/s][Parallel(n_jobs=8)]: Done 434 tasks      | elapsed:   24.2s\n",
      "Building a1 cache: 100%|██████████| 500/500 [00:26<00:00, 18.62it/s]\n",
      "[Parallel(n_jobs=8)]: Done 500 out of 500 | elapsed:   27.8s finished\n",
      "Building a1 cache:   0%|          | 0/500 [00:00<?, ?it/s][Parallel(n_jobs=8)]: Using backend LokyBackend with 8 concurrent workers.\n"
     ]
    },
    {
     "name": "stdout",
     "output_type": "stream",
     "text": [
      "q=0.2, xeff=-0.6\n"
     ]
    },
    {
     "name": "stderr",
     "output_type": "stream",
     "text": [
      "Building a1 cache:  10%|▉         | 48/500 [00:02<00:21, 20.92it/s][Parallel(n_jobs=8)]: Done  34 tasks      | elapsed:    2.2s\n",
      "Building a1 cache:  38%|███▊      | 192/500 [00:10<00:16, 18.20it/s][Parallel(n_jobs=8)]: Done 184 tasks      | elapsed:   10.4s\n",
      "Building a1 cache:  90%|████████▉ | 448/500 [00:24<00:02, 18.18it/s][Parallel(n_jobs=8)]: Done 434 tasks      | elapsed:   24.2s\n",
      "Building a1 cache: 100%|██████████| 500/500 [00:26<00:00, 18.62it/s]\n",
      "[Parallel(n_jobs=8)]: Done 500 out of 500 | elapsed:   27.8s finished\n",
      "Building a1 cache:   0%|          | 0/500 [00:00<?, ?it/s][Parallel(n_jobs=8)]: Using backend LokyBackend with 8 concurrent workers.\n"
     ]
    },
    {
     "name": "stdout",
     "output_type": "stream",
     "text": [
      "q=0.2, xeff=-0.3999999999999999\n"
     ]
    },
    {
     "name": "stderr",
     "output_type": "stream",
     "text": [
      "Building a1 cache:  10%|▉         | 48/500 [00:02<00:21, 21.13it/s][Parallel(n_jobs=8)]: Done  34 tasks      | elapsed:    2.2s\n",
      "Building a1 cache:  38%|███▊      | 192/500 [00:09<00:16, 18.77it/s][Parallel(n_jobs=8)]: Done 184 tasks      | elapsed:   10.3s\n",
      "Building a1 cache:  90%|████████▉ | 448/500 [00:24<00:02, 17.96it/s][Parallel(n_jobs=8)]: Done 434 tasks      | elapsed:   24.3s\n",
      "Building a1 cache: 100%|██████████| 500/500 [00:26<00:00, 18.54it/s]\n",
      "[Parallel(n_jobs=8)]: Done 500 out of 500 | elapsed:   27.8s finished\n",
      "Building a1 cache:   0%|          | 0/500 [00:00<?, ?it/s][Parallel(n_jobs=8)]: Using backend LokyBackend with 8 concurrent workers.\n"
     ]
    },
    {
     "name": "stdout",
     "output_type": "stream",
     "text": [
      "q=0.2, xeff=-0.19999999999999996\n"
     ]
    },
    {
     "name": "stderr",
     "output_type": "stream",
     "text": [
      "Building a1 cache:  10%|▉         | 48/500 [00:02<00:21, 20.80it/s][Parallel(n_jobs=8)]: Done  34 tasks      | elapsed:    2.2s\n",
      "Building a1 cache:  38%|███▊      | 192/500 [00:10<00:16, 18.41it/s][Parallel(n_jobs=8)]: Done 184 tasks      | elapsed:   10.5s\n",
      "Building a1 cache:  90%|████████▉ | 448/500 [00:24<00:02, 17.56it/s][Parallel(n_jobs=8)]: Done 434 tasks      | elapsed:   24.4s\n",
      "Building a1 cache: 100%|██████████| 500/500 [00:27<00:00, 18.51it/s]\n",
      "[Parallel(n_jobs=8)]: Done 500 out of 500 | elapsed:   27.9s finished\n",
      "Building a1 cache:   0%|          | 0/500 [00:00<?, ?it/s][Parallel(n_jobs=8)]: Using backend LokyBackend with 8 concurrent workers.\n"
     ]
    },
    {
     "name": "stdout",
     "output_type": "stream",
     "text": [
      "q=0.2, xeff=0.0\n"
     ]
    },
    {
     "name": "stderr",
     "output_type": "stream",
     "text": [
      "Building a1 cache:  10%|▉         | 48/500 [00:02<00:21, 20.87it/s][Parallel(n_jobs=8)]: Done  34 tasks      | elapsed:    2.2s\n",
      "Building a1 cache:  38%|███▊      | 192/500 [00:10<00:16, 18.72it/s][Parallel(n_jobs=8)]: Done 184 tasks      | elapsed:   10.4s\n",
      "Building a1 cache:  90%|████████▉ | 448/500 [00:24<00:02, 18.08it/s][Parallel(n_jobs=8)]: Done 434 tasks      | elapsed:   24.2s\n",
      "Building a1 cache: 100%|██████████| 500/500 [00:26<00:00, 18.60it/s]\n",
      "[Parallel(n_jobs=8)]: Done 500 out of 500 | elapsed:   27.7s finished\n",
      "Building a1 cache:   0%|          | 0/500 [00:00<?, ?it/s][Parallel(n_jobs=8)]: Using backend LokyBackend with 8 concurrent workers.\n"
     ]
    },
    {
     "name": "stdout",
     "output_type": "stream",
     "text": [
      "q=0.2, xeff=0.20000000000000018\n"
     ]
    },
    {
     "name": "stderr",
     "output_type": "stream",
     "text": [
      "Building a1 cache:  10%|▉         | 48/500 [00:02<00:21, 20.73it/s][Parallel(n_jobs=8)]: Done  34 tasks      | elapsed:    2.2s\n",
      "Building a1 cache:  38%|███▊      | 192/500 [00:10<00:17, 17.73it/s][Parallel(n_jobs=8)]: Done 184 tasks      | elapsed:   10.5s\n",
      "Building a1 cache:  90%|████████▉ | 448/500 [00:24<00:02, 17.66it/s][Parallel(n_jobs=8)]: Done 434 tasks      | elapsed:   24.4s\n",
      "Building a1 cache: 100%|██████████| 500/500 [00:27<00:00, 18.46it/s]\n",
      "[Parallel(n_jobs=8)]: Done 500 out of 500 | elapsed:   28.1s finished\n",
      "Building a1 cache:   0%|          | 0/500 [00:00<?, ?it/s][Parallel(n_jobs=8)]: Using backend LokyBackend with 8 concurrent workers.\n"
     ]
    },
    {
     "name": "stdout",
     "output_type": "stream",
     "text": [
      "q=0.2, xeff=0.40000000000000013\n"
     ]
    },
    {
     "name": "stderr",
     "output_type": "stream",
     "text": [
      "Building a1 cache:  10%|▉         | 48/500 [00:02<00:21, 20.91it/s][Parallel(n_jobs=8)]: Done  34 tasks      | elapsed:    2.2s\n",
      "Building a1 cache:  38%|███▊      | 192/500 [00:09<00:16, 18.31it/s][Parallel(n_jobs=8)]: Done 184 tasks      | elapsed:   10.3s\n",
      "Building a1 cache:  90%|████████▉ | 448/500 [00:24<00:02, 17.95it/s][Parallel(n_jobs=8)]: Done 434 tasks      | elapsed:   24.2s\n",
      "Building a1 cache: 100%|██████████| 500/500 [00:26<00:00, 18.62it/s]\n",
      "[Parallel(n_jobs=8)]: Done 500 out of 500 | elapsed:   27.7s finished\n",
      "Building a1 cache:   0%|          | 0/500 [00:00<?, ?it/s][Parallel(n_jobs=8)]: Using backend LokyBackend with 8 concurrent workers.\n"
     ]
    },
    {
     "name": "stdout",
     "output_type": "stream",
     "text": [
      "q=0.2, xeff=0.6000000000000001\n"
     ]
    },
    {
     "name": "stderr",
     "output_type": "stream",
     "text": [
      "Building a1 cache:  10%|▉         | 48/500 [00:02<00:22, 20.44it/s][Parallel(n_jobs=8)]: Done  34 tasks      | elapsed:    2.3s\n",
      "Building a1 cache:  38%|███▊      | 192/500 [00:10<00:17, 18.06it/s][Parallel(n_jobs=8)]: Done 184 tasks      | elapsed:   10.4s\n",
      "Building a1 cache:  90%|████████▉ | 448/500 [00:24<00:02, 17.69it/s][Parallel(n_jobs=8)]: Done 434 tasks      | elapsed:   24.4s\n",
      "Building a1 cache: 100%|██████████| 500/500 [00:27<00:00, 18.47it/s]\n",
      "[Parallel(n_jobs=8)]: Done 500 out of 500 | elapsed:   27.9s finished\n",
      "Building a1 cache:   0%|          | 0/500 [00:00<?, ?it/s][Parallel(n_jobs=8)]: Using backend LokyBackend with 8 concurrent workers.\n"
     ]
    },
    {
     "name": "stdout",
     "output_type": "stream",
     "text": [
      "q=0.2, xeff=0.8\n"
     ]
    },
    {
     "name": "stderr",
     "output_type": "stream",
     "text": [
      "Building a1 cache:  10%|▉         | 48/500 [00:02<00:23, 19.32it/s][Parallel(n_jobs=8)]: Done  34 tasks      | elapsed:    2.3s\n",
      "Building a1 cache:  38%|███▊      | 192/500 [00:10<00:16, 18.74it/s][Parallel(n_jobs=8)]: Done 184 tasks      | elapsed:   10.5s\n",
      "Building a1 cache:  90%|████████▉ | 448/500 [00:24<00:02, 17.92it/s][Parallel(n_jobs=8)]: Done 434 tasks      | elapsed:   24.4s\n",
      "Building a1 cache: 100%|██████████| 500/500 [00:26<00:00, 18.55it/s]\n",
      "[Parallel(n_jobs=8)]: Done 500 out of 500 | elapsed:   27.9s finished\n",
      "Building a1 cache:   0%|          | 0/500 [00:00<?, ?it/s][Parallel(n_jobs=8)]: Using backend LokyBackend with 8 concurrent workers.\n"
     ]
    },
    {
     "name": "stdout",
     "output_type": "stream",
     "text": [
      "q=0.2, xeff=1.0\n"
     ]
    },
    {
     "name": "stderr",
     "output_type": "stream",
     "text": [
      "Building a1 cache:  10%|▉         | 48/500 [00:02<00:21, 20.86it/s][Parallel(n_jobs=8)]: Done  34 tasks      | elapsed:    2.2s\n",
      "Building a1 cache:  38%|███▊      | 192/500 [00:10<00:17, 17.78it/s][Parallel(n_jobs=8)]: Done 184 tasks      | elapsed:   10.5s\n",
      "Building a1 cache:  90%|████████▉ | 448/500 [00:24<00:02, 17.38it/s][Parallel(n_jobs=8)]: Done 434 tasks      | elapsed:   24.4s\n",
      "Building a1 cache: 100%|██████████| 500/500 [00:27<00:00, 18.44it/s]\n",
      "[Parallel(n_jobs=8)]: Done 500 out of 500 | elapsed:   28.0s finished\n",
      "<ipython-input-2-aa2845171f48>:26: RuntimeWarning: invalid value encountered in true_divide\n",
      "  p_a1 = p_a1 / np.sum(p_a1) / da1\n",
      "Building a1 cache:   0%|          | 0/500 [00:00<?, ?it/s][Parallel(n_jobs=8)]: Using backend LokyBackend with 8 concurrent workers.\n"
     ]
    },
    {
     "name": "stdout",
     "output_type": "stream",
     "text": [
      "q=0.30000000000000004, xeff=-1.0\n"
     ]
    },
    {
     "name": "stderr",
     "output_type": "stream",
     "text": [
      "Building a1 cache:  10%|▉         | 48/500 [00:02<00:21, 20.91it/s][Parallel(n_jobs=8)]: Done  34 tasks      | elapsed:    2.2s\n",
      "Building a1 cache:  38%|███▊      | 192/500 [00:10<00:16, 18.62it/s][Parallel(n_jobs=8)]: Done 184 tasks      | elapsed:   10.4s\n",
      "Building a1 cache:  90%|████████▉ | 448/500 [00:24<00:02, 18.21it/s][Parallel(n_jobs=8)]: Done 434 tasks      | elapsed:   24.3s\n",
      "Building a1 cache: 100%|██████████| 500/500 [00:27<00:00, 18.48it/s]\n",
      "[Parallel(n_jobs=8)]: Done 500 out of 500 | elapsed:   28.0s finished\n",
      "<ipython-input-2-aa2845171f48>:26: RuntimeWarning: invalid value encountered in true_divide\n",
      "  p_a1 = p_a1 / np.sum(p_a1) / da1\n",
      "Building a1 cache:   0%|          | 0/500 [00:00<?, ?it/s][Parallel(n_jobs=8)]: Using backend LokyBackend with 8 concurrent workers.\n"
     ]
    },
    {
     "name": "stdout",
     "output_type": "stream",
     "text": [
      "q=0.30000000000000004, xeff=-0.8\n"
     ]
    },
    {
     "name": "stderr",
     "output_type": "stream",
     "text": [
      "Building a1 cache:  10%|▉         | 48/500 [00:02<00:22, 20.16it/s][Parallel(n_jobs=8)]: Done  34 tasks      | elapsed:    2.3s\n",
      "Building a1 cache:  38%|███▊      | 192/500 [00:10<00:16, 18.39it/s][Parallel(n_jobs=8)]: Done 184 tasks      | elapsed:   10.5s\n",
      "Building a1 cache:  90%|████████▉ | 448/500 [00:24<00:02, 18.34it/s][Parallel(n_jobs=8)]: Done 434 tasks      | elapsed:   24.3s\n",
      "Building a1 cache: 100%|██████████| 500/500 [00:26<00:00, 18.55it/s]\n",
      "[Parallel(n_jobs=8)]: Done 500 out of 500 | elapsed:   27.8s finished\n",
      "Building a1 cache:   0%|          | 0/500 [00:00<?, ?it/s][Parallel(n_jobs=8)]: Using backend LokyBackend with 8 concurrent workers.\n"
     ]
    },
    {
     "name": "stdout",
     "output_type": "stream",
     "text": [
      "q=0.30000000000000004, xeff=-0.6\n"
     ]
    },
    {
     "name": "stderr",
     "output_type": "stream",
     "text": [
      "Building a1 cache:  10%|▉         | 48/500 [00:02<00:22, 20.36it/s][Parallel(n_jobs=8)]: Done  34 tasks      | elapsed:    2.3s\n",
      "Building a1 cache:  38%|███▊      | 192/500 [00:10<00:16, 18.55it/s][Parallel(n_jobs=8)]: Done 184 tasks      | elapsed:   10.5s\n",
      "Building a1 cache:  90%|████████▉ | 448/500 [00:24<00:02, 17.84it/s][Parallel(n_jobs=8)]: Done 434 tasks      | elapsed:   24.5s\n",
      "Building a1 cache: 100%|██████████| 500/500 [00:27<00:00, 18.43it/s]\n",
      "[Parallel(n_jobs=8)]: Done 500 out of 500 | elapsed:   28.0s finished\n",
      "Building a1 cache:   0%|          | 0/500 [00:00<?, ?it/s][Parallel(n_jobs=8)]: Using backend LokyBackend with 8 concurrent workers.\n"
     ]
    },
    {
     "name": "stdout",
     "output_type": "stream",
     "text": [
      "q=0.30000000000000004, xeff=-0.3999999999999999\n"
     ]
    },
    {
     "name": "stderr",
     "output_type": "stream",
     "text": [
      "Building a1 cache:  10%|▉         | 48/500 [00:02<00:21, 20.96it/s][Parallel(n_jobs=8)]: Done  34 tasks      | elapsed:    2.2s\n",
      "Building a1 cache:  38%|███▊      | 192/500 [00:09<00:16, 18.68it/s][Parallel(n_jobs=8)]: Done 184 tasks      | elapsed:   10.3s\n",
      "Building a1 cache:  90%|████████▉ | 448/500 [00:24<00:02, 18.14it/s][Parallel(n_jobs=8)]: Done 434 tasks      | elapsed:   24.3s\n",
      "Building a1 cache: 100%|██████████| 500/500 [00:26<00:00, 18.54it/s]\n",
      "[Parallel(n_jobs=8)]: Done 500 out of 500 | elapsed:   27.8s finished\n",
      "Building a1 cache:   0%|          | 0/500 [00:00<?, ?it/s][Parallel(n_jobs=8)]: Using backend LokyBackend with 8 concurrent workers.\n"
     ]
    },
    {
     "name": "stdout",
     "output_type": "stream",
     "text": [
      "q=0.30000000000000004, xeff=-0.19999999999999996\n"
     ]
    },
    {
     "name": "stderr",
     "output_type": "stream",
     "text": [
      "Building a1 cache:  10%|▉         | 48/500 [00:02<00:21, 20.77it/s][Parallel(n_jobs=8)]: Done  34 tasks      | elapsed:    2.2s\n",
      "Building a1 cache:  38%|███▊      | 192/500 [00:10<00:16, 18.15it/s][Parallel(n_jobs=8)]: Done 184 tasks      | elapsed:   10.5s\n",
      "Building a1 cache:  90%|████████▉ | 448/500 [00:24<00:02, 17.82it/s][Parallel(n_jobs=8)]: Done 434 tasks      | elapsed:   24.4s\n",
      "Building a1 cache: 100%|██████████| 500/500 [00:27<00:00, 18.47it/s]\n",
      "[Parallel(n_jobs=8)]: Done 500 out of 500 | elapsed:   28.0s finished\n",
      "Building a1 cache:   0%|          | 0/500 [00:00<?, ?it/s][Parallel(n_jobs=8)]: Using backend LokyBackend with 8 concurrent workers.\n"
     ]
    },
    {
     "name": "stdout",
     "output_type": "stream",
     "text": [
      "q=0.30000000000000004, xeff=0.0\n"
     ]
    },
    {
     "name": "stderr",
     "output_type": "stream",
     "text": [
      "Building a1 cache:  10%|▉         | 48/500 [00:02<00:21, 20.65it/s][Parallel(n_jobs=8)]: Done  34 tasks      | elapsed:    2.2s\n",
      "Building a1 cache:  38%|███▊      | 192/500 [00:10<00:16, 18.72it/s][Parallel(n_jobs=8)]: Done 184 tasks      | elapsed:   10.3s\n",
      "Building a1 cache:  90%|████████▉ | 448/500 [00:25<00:03, 14.28it/s][Parallel(n_jobs=8)]: Done 434 tasks      | elapsed:   25.9s\n",
      "Building a1 cache: 100%|██████████| 500/500 [00:29<00:00, 17.06it/s]\n",
      "[Parallel(n_jobs=8)]: Done 500 out of 500 | elapsed:   30.6s finished\n",
      "Building a1 cache:   0%|          | 0/500 [00:00<?, ?it/s][Parallel(n_jobs=8)]: Using backend LokyBackend with 8 concurrent workers.\n"
     ]
    },
    {
     "name": "stdout",
     "output_type": "stream",
     "text": [
      "q=0.30000000000000004, xeff=0.20000000000000018\n"
     ]
    },
    {
     "name": "stderr",
     "output_type": "stream",
     "text": [
      "Building a1 cache:  10%|▉         | 48/500 [00:02<00:25, 17.98it/s][Parallel(n_jobs=8)]: Done  34 tasks      | elapsed:    2.5s\n",
      "Building a1 cache:  38%|███▊      | 192/500 [00:11<00:18, 16.23it/s][Parallel(n_jobs=8)]: Done 184 tasks      | elapsed:   11.7s\n",
      "Building a1 cache:  90%|████████▉ | 448/500 [00:26<00:02, 17.62it/s][Parallel(n_jobs=8)]: Done 434 tasks      | elapsed:   26.2s\n",
      "Building a1 cache: 100%|██████████| 500/500 [00:28<00:00, 17.32it/s]\n",
      "[Parallel(n_jobs=8)]: Done 500 out of 500 | elapsed:   29.8s finished\n",
      "Building a1 cache:   0%|          | 0/500 [00:00<?, ?it/s][Parallel(n_jobs=8)]: Using backend LokyBackend with 8 concurrent workers.\n"
     ]
    },
    {
     "name": "stdout",
     "output_type": "stream",
     "text": [
      "q=0.30000000000000004, xeff=0.40000000000000013\n"
     ]
    },
    {
     "name": "stderr",
     "output_type": "stream",
     "text": [
      "Building a1 cache:  10%|▉         | 48/500 [00:02<00:21, 20.86it/s][Parallel(n_jobs=8)]: Done  34 tasks      | elapsed:    2.3s\n",
      "Building a1 cache:  38%|███▊      | 192/500 [00:09<00:16, 18.77it/s][Parallel(n_jobs=8)]: Done 184 tasks      | elapsed:   10.4s\n",
      "Building a1 cache:  90%|████████▉ | 448/500 [00:24<00:02, 18.11it/s][Parallel(n_jobs=8)]: Done 434 tasks      | elapsed:   24.3s\n",
      "Building a1 cache: 100%|██████████| 500/500 [00:26<00:00, 18.61it/s]\n",
      "[Parallel(n_jobs=8)]: Done 500 out of 500 | elapsed:   27.8s finished\n",
      "Building a1 cache:   0%|          | 0/500 [00:00<?, ?it/s][Parallel(n_jobs=8)]: Using backend LokyBackend with 8 concurrent workers.\n"
     ]
    },
    {
     "name": "stdout",
     "output_type": "stream",
     "text": [
      "q=0.30000000000000004, xeff=0.6000000000000001\n"
     ]
    },
    {
     "name": "stderr",
     "output_type": "stream",
     "text": [
      "Building a1 cache:  10%|▉         | 48/500 [00:02<00:22, 20.18it/s][Parallel(n_jobs=8)]: Done  34 tasks      | elapsed:    2.3s\n",
      "Building a1 cache:  38%|███▊      | 192/500 [00:10<00:16, 18.51it/s][Parallel(n_jobs=8)]: Done 184 tasks      | elapsed:   10.4s\n",
      "Building a1 cache:  90%|████████▉ | 448/500 [00:24<00:02, 18.39it/s][Parallel(n_jobs=8)]: Done 434 tasks      | elapsed:   24.2s\n",
      "Building a1 cache: 100%|██████████| 500/500 [00:26<00:00, 18.60it/s]\n",
      "[Parallel(n_jobs=8)]: Done 500 out of 500 | elapsed:   27.7s finished\n",
      "Building a1 cache:   0%|          | 0/500 [00:00<?, ?it/s][Parallel(n_jobs=8)]: Using backend LokyBackend with 8 concurrent workers.\n"
     ]
    },
    {
     "name": "stdout",
     "output_type": "stream",
     "text": [
      "q=0.30000000000000004, xeff=0.8\n"
     ]
    },
    {
     "name": "stderr",
     "output_type": "stream",
     "text": [
      "Building a1 cache:  10%|▉         | 48/500 [00:02<00:21, 20.78it/s][Parallel(n_jobs=8)]: Done  34 tasks      | elapsed:    2.3s\n",
      "Building a1 cache:  38%|███▊      | 192/500 [00:10<00:16, 18.27it/s][Parallel(n_jobs=8)]: Done 184 tasks      | elapsed:   10.6s\n",
      "Building a1 cache:  90%|████████▉ | 448/500 [00:24<00:02, 17.67it/s][Parallel(n_jobs=8)]: Done 434 tasks      | elapsed:   24.6s\n",
      "Building a1 cache: 100%|██████████| 500/500 [00:27<00:00, 18.36it/s]\n",
      "[Parallel(n_jobs=8)]: Done 500 out of 500 | elapsed:   28.1s finished\n",
      "Building a1 cache:   0%|          | 0/500 [00:00<?, ?it/s][Parallel(n_jobs=8)]: Using backend LokyBackend with 8 concurrent workers.\n"
     ]
    },
    {
     "name": "stdout",
     "output_type": "stream",
     "text": [
      "q=0.30000000000000004, xeff=1.0\n"
     ]
    },
    {
     "name": "stderr",
     "output_type": "stream",
     "text": [
      "Building a1 cache:  10%|▉         | 48/500 [00:02<00:21, 20.95it/s][Parallel(n_jobs=8)]: Done  34 tasks      | elapsed:    2.2s\n",
      "Building a1 cache:  38%|███▊      | 192/500 [00:10<00:16, 18.40it/s][Parallel(n_jobs=8)]: Done 184 tasks      | elapsed:   10.4s\n",
      "Building a1 cache:  90%|████████▉ | 448/500 [00:24<00:02, 17.99it/s][Parallel(n_jobs=8)]: Done 434 tasks      | elapsed:   24.2s\n",
      "Building a1 cache: 100%|██████████| 500/500 [00:26<00:00, 18.61it/s]\n",
      "[Parallel(n_jobs=8)]: Done 500 out of 500 | elapsed:   27.9s finished\n",
      "<ipython-input-2-aa2845171f48>:26: RuntimeWarning: invalid value encountered in true_divide\n",
      "  p_a1 = p_a1 / np.sum(p_a1) / da1\n",
      "Building a1 cache:   0%|          | 0/500 [00:00<?, ?it/s][Parallel(n_jobs=8)]: Using backend LokyBackend with 8 concurrent workers.\n"
     ]
    },
    {
     "name": "stdout",
     "output_type": "stream",
     "text": [
      "q=0.4, xeff=-1.0\n"
     ]
    },
    {
     "name": "stderr",
     "output_type": "stream",
     "text": [
      "Building a1 cache:  10%|▉         | 48/500 [00:02<00:22, 19.95it/s][Parallel(n_jobs=8)]: Done  34 tasks      | elapsed:    2.3s\n",
      "Building a1 cache:  38%|███▊      | 192/500 [00:10<00:16, 18.56it/s][Parallel(n_jobs=8)]: Done 184 tasks      | elapsed:   10.4s\n",
      "Building a1 cache:  90%|████████▉ | 448/500 [00:24<00:02, 18.35it/s][Parallel(n_jobs=8)]: Done 434 tasks      | elapsed:   24.4s\n",
      "Building a1 cache: 100%|██████████| 500/500 [00:27<00:00, 18.46it/s]\n",
      "[Parallel(n_jobs=8)]: Done 500 out of 500 | elapsed:   27.9s finished\n",
      "<ipython-input-2-aa2845171f48>:26: RuntimeWarning: invalid value encountered in true_divide\n",
      "  p_a1 = p_a1 / np.sum(p_a1) / da1\n",
      "Building a1 cache:   0%|          | 0/500 [00:00<?, ?it/s][Parallel(n_jobs=8)]: Using backend LokyBackend with 8 concurrent workers.\n"
     ]
    },
    {
     "name": "stdout",
     "output_type": "stream",
     "text": [
      "q=0.4, xeff=-0.8\n"
     ]
    },
    {
     "name": "stderr",
     "output_type": "stream",
     "text": [
      "Building a1 cache:  10%|▉         | 48/500 [00:02<00:22, 20.23it/s][Parallel(n_jobs=8)]: Done  34 tasks      | elapsed:    2.4s\n",
      "Building a1 cache:  38%|███▊      | 192/500 [00:10<00:17, 18.12it/s][Parallel(n_jobs=8)]: Done 184 tasks      | elapsed:   10.6s\n",
      "Building a1 cache:  90%|████████▉ | 448/500 [00:24<00:02, 17.63it/s][Parallel(n_jobs=8)]: Done 434 tasks      | elapsed:   24.7s\n",
      "Building a1 cache: 100%|██████████| 500/500 [00:27<00:00, 18.20it/s]\n",
      "[Parallel(n_jobs=8)]: Done 500 out of 500 | elapsed:   28.5s finished\n",
      "Building a1 cache:   0%|          | 0/500 [00:00<?, ?it/s][Parallel(n_jobs=8)]: Using backend LokyBackend with 8 concurrent workers.\n"
     ]
    },
    {
     "name": "stdout",
     "output_type": "stream",
     "text": [
      "q=0.4, xeff=-0.6\n"
     ]
    },
    {
     "name": "stderr",
     "output_type": "stream",
     "text": [
      "Building a1 cache:  10%|▉         | 48/500 [00:02<00:22, 20.46it/s][Parallel(n_jobs=8)]: Done  34 tasks      | elapsed:    2.3s\n",
      "Building a1 cache:  38%|███▊      | 192/500 [00:10<00:16, 18.56it/s][Parallel(n_jobs=8)]: Done 184 tasks      | elapsed:   10.3s\n",
      "Building a1 cache:  90%|████████▉ | 448/500 [00:23<00:02, 17.61it/s][Parallel(n_jobs=8)]: Done 434 tasks      | elapsed:   24.0s\n",
      "Building a1 cache: 100%|██████████| 500/500 [00:26<00:00, 18.68it/s]\n",
      "[Parallel(n_jobs=8)]: Done 500 out of 500 | elapsed:   27.7s finished\n",
      "Building a1 cache:   0%|          | 0/500 [00:00<?, ?it/s][Parallel(n_jobs=8)]: Using backend LokyBackend with 8 concurrent workers.\n"
     ]
    },
    {
     "name": "stdout",
     "output_type": "stream",
     "text": [
      "q=0.4, xeff=-0.3999999999999999\n"
     ]
    },
    {
     "name": "stderr",
     "output_type": "stream",
     "text": [
      "Building a1 cache:  10%|▉         | 48/500 [00:02<00:22, 20.19it/s][Parallel(n_jobs=8)]: Done  34 tasks      | elapsed:    2.4s\n",
      "Building a1 cache:  38%|███▊      | 192/500 [00:10<00:17, 17.75it/s][Parallel(n_jobs=8)]: Done 184 tasks      | elapsed:   10.7s\n",
      "Building a1 cache:  90%|████████▉ | 448/500 [00:25<00:03, 16.74it/s][Parallel(n_jobs=8)]: Done 434 tasks      | elapsed:   25.1s\n",
      "Building a1 cache: 100%|██████████| 500/500 [00:27<00:00, 17.95it/s]\n",
      "[Parallel(n_jobs=8)]: Done 500 out of 500 | elapsed:   28.7s finished\n",
      "Building a1 cache:   0%|          | 0/500 [00:00<?, ?it/s][Parallel(n_jobs=8)]: Using backend LokyBackend with 8 concurrent workers.\n"
     ]
    },
    {
     "name": "stdout",
     "output_type": "stream",
     "text": [
      "q=0.4, xeff=-0.19999999999999996\n"
     ]
    },
    {
     "name": "stderr",
     "output_type": "stream",
     "text": [
      "Building a1 cache:  10%|▉         | 48/500 [00:02<00:22, 19.73it/s][Parallel(n_jobs=8)]: Done  34 tasks      | elapsed:    2.4s\n",
      "Building a1 cache:  38%|███▊      | 192/500 [00:10<00:16, 18.20it/s][Parallel(n_jobs=8)]: Done 184 tasks      | elapsed:   10.7s\n",
      "Building a1 cache:  90%|████████▉ | 448/500 [00:24<00:02, 17.52it/s][Parallel(n_jobs=8)]: Done 434 tasks      | elapsed:   24.9s\n",
      "Building a1 cache: 100%|██████████| 500/500 [00:27<00:00, 18.07it/s]\n",
      "[Parallel(n_jobs=8)]: Done 500 out of 500 | elapsed:   28.6s finished\n",
      "Building a1 cache:   0%|          | 0/500 [00:00<?, ?it/s][Parallel(n_jobs=8)]: Using backend LokyBackend with 8 concurrent workers.\n"
     ]
    },
    {
     "name": "stdout",
     "output_type": "stream",
     "text": [
      "q=0.4, xeff=0.0\n"
     ]
    },
    {
     "name": "stderr",
     "output_type": "stream",
     "text": [
      "Building a1 cache:  10%|▉         | 48/500 [00:02<00:22, 20.11it/s][Parallel(n_jobs=8)]: Done  34 tasks      | elapsed:    2.3s\n",
      "Building a1 cache:  38%|███▊      | 192/500 [00:10<00:17, 17.83it/s][Parallel(n_jobs=8)]: Done 184 tasks      | elapsed:   10.8s\n",
      "Building a1 cache:  90%|████████▉ | 448/500 [00:24<00:02, 18.22it/s][Parallel(n_jobs=8)]: Done 434 tasks      | elapsed:   24.6s\n",
      "Building a1 cache: 100%|██████████| 500/500 [00:27<00:00, 18.37it/s]\n",
      "[Parallel(n_jobs=8)]: Done 500 out of 500 | elapsed:   28.2s finished\n",
      "Building a1 cache:   0%|          | 0/500 [00:00<?, ?it/s][Parallel(n_jobs=8)]: Using backend LokyBackend with 8 concurrent workers.\n"
     ]
    },
    {
     "name": "stdout",
     "output_type": "stream",
     "text": [
      "q=0.4, xeff=0.20000000000000018\n"
     ]
    },
    {
     "name": "stderr",
     "output_type": "stream",
     "text": [
      "Building a1 cache:  10%|▉         | 48/500 [00:02<00:21, 20.57it/s][Parallel(n_jobs=8)]: Done  34 tasks      | elapsed:    2.2s\n",
      "Building a1 cache:  38%|███▊      | 192/500 [00:10<00:16, 18.51it/s][Parallel(n_jobs=8)]: Done 184 tasks      | elapsed:   10.5s\n",
      "Building a1 cache:  90%|████████▉ | 448/500 [00:24<00:02, 17.76it/s][Parallel(n_jobs=8)]: Done 434 tasks      | elapsed:   24.4s\n",
      "Building a1 cache: 100%|██████████| 500/500 [00:27<00:00, 18.39it/s]\n",
      "[Parallel(n_jobs=8)]: Done 500 out of 500 | elapsed:   27.9s finished\n",
      "Building a1 cache:   0%|          | 0/500 [00:00<?, ?it/s][Parallel(n_jobs=8)]: Using backend LokyBackend with 8 concurrent workers.\n"
     ]
    },
    {
     "name": "stdout",
     "output_type": "stream",
     "text": [
      "q=0.4, xeff=0.40000000000000013\n"
     ]
    },
    {
     "name": "stderr",
     "output_type": "stream",
     "text": [
      "Building a1 cache:  10%|▉         | 48/500 [00:02<00:22, 19.65it/s][Parallel(n_jobs=8)]: Done  34 tasks      | elapsed:    2.3s\n",
      "Building a1 cache:  38%|███▊      | 192/500 [00:10<00:17, 17.91it/s][Parallel(n_jobs=8)]: Done 184 tasks      | elapsed:   10.7s\n",
      "Building a1 cache:  90%|████████▉ | 448/500 [00:24<00:02, 17.67it/s][Parallel(n_jobs=8)]: Done 434 tasks      | elapsed:   25.0s\n",
      "Building a1 cache: 100%|██████████| 500/500 [00:27<00:00, 18.06it/s]\n",
      "[Parallel(n_jobs=8)]: Done 500 out of 500 | elapsed:   28.6s finished\n",
      "Building a1 cache:   0%|          | 0/500 [00:00<?, ?it/s][Parallel(n_jobs=8)]: Using backend LokyBackend with 8 concurrent workers.\n"
     ]
    },
    {
     "name": "stdout",
     "output_type": "stream",
     "text": [
      "q=0.4, xeff=0.6000000000000001\n"
     ]
    },
    {
     "name": "stderr",
     "output_type": "stream",
     "text": [
      "Building a1 cache:  10%|▉         | 48/500 [00:02<00:22, 19.87it/s][Parallel(n_jobs=8)]: Done  34 tasks      | elapsed:    2.3s\n",
      "Building a1 cache:  38%|███▊      | 192/500 [00:10<00:17, 17.92it/s][Parallel(n_jobs=8)]: Done 184 tasks      | elapsed:   10.7s\n",
      "Building a1 cache:  90%|████████▉ | 448/500 [00:25<00:03, 15.97it/s][Parallel(n_jobs=8)]: Done 434 tasks      | elapsed:   25.3s\n",
      "Building a1 cache: 100%|██████████| 500/500 [00:28<00:00, 17.71it/s]\n",
      "[Parallel(n_jobs=8)]: Done 500 out of 500 | elapsed:   29.2s finished\n",
      "Building a1 cache:   0%|          | 0/500 [00:00<?, ?it/s][Parallel(n_jobs=8)]: Using backend LokyBackend with 8 concurrent workers.\n"
     ]
    },
    {
     "name": "stdout",
     "output_type": "stream",
     "text": [
      "q=0.4, xeff=0.8\n"
     ]
    },
    {
     "name": "stderr",
     "output_type": "stream",
     "text": [
      "Building a1 cache:  10%|▉         | 48/500 [00:02<00:24, 18.44it/s][Parallel(n_jobs=8)]: Done  34 tasks      | elapsed:    2.5s\n",
      "Building a1 cache:  38%|███▊      | 192/500 [00:11<00:19, 16.12it/s][Parallel(n_jobs=8)]: Done 184 tasks      | elapsed:   11.8s\n",
      "Building a1 cache:  90%|████████▉ | 448/500 [00:27<00:03, 17.04it/s][Parallel(n_jobs=8)]: Done 434 tasks      | elapsed:   27.3s\n",
      "Building a1 cache: 100%|██████████| 500/500 [00:30<00:00, 16.64it/s]\n",
      "[Parallel(n_jobs=8)]: Done 500 out of 500 | elapsed:   31.0s finished\n",
      "Building a1 cache:   0%|          | 0/500 [00:00<?, ?it/s][Parallel(n_jobs=8)]: Using backend LokyBackend with 8 concurrent workers.\n"
     ]
    },
    {
     "name": "stdout",
     "output_type": "stream",
     "text": [
      "q=0.4, xeff=1.0\n"
     ]
    },
    {
     "name": "stderr",
     "output_type": "stream",
     "text": [
      "Building a1 cache:  10%|▉         | 48/500 [00:02<00:22, 20.19it/s][Parallel(n_jobs=8)]: Done  34 tasks      | elapsed:    2.3s\n",
      "Building a1 cache:  38%|███▊      | 192/500 [00:10<00:17, 17.99it/s][Parallel(n_jobs=8)]: Done 184 tasks      | elapsed:   10.8s\n",
      "Building a1 cache:  90%|████████▉ | 448/500 [00:25<00:02, 17.59it/s][Parallel(n_jobs=8)]: Done 434 tasks      | elapsed:   25.2s\n",
      "Building a1 cache: 100%|██████████| 500/500 [00:27<00:00, 17.95it/s]\n",
      "[Parallel(n_jobs=8)]: Done 500 out of 500 | elapsed:   28.8s finished\n",
      "<ipython-input-2-aa2845171f48>:26: RuntimeWarning: invalid value encountered in true_divide\n",
      "  p_a1 = p_a1 / np.sum(p_a1) / da1\n",
      "Building a1 cache:   0%|          | 0/500 [00:00<?, ?it/s][Parallel(n_jobs=8)]: Using backend LokyBackend with 8 concurrent workers.\n"
     ]
    },
    {
     "name": "stdout",
     "output_type": "stream",
     "text": [
      "q=0.5, xeff=-1.0\n"
     ]
    },
    {
     "name": "stderr",
     "output_type": "stream",
     "text": [
      "Building a1 cache:  10%|▉         | 48/500 [00:02<00:22, 19.94it/s][Parallel(n_jobs=8)]: Done  34 tasks      | elapsed:    2.3s\n",
      "Building a1 cache:  38%|███▊      | 192/500 [00:10<00:17, 17.77it/s][Parallel(n_jobs=8)]: Done 184 tasks      | elapsed:   10.8s\n",
      "Building a1 cache:  90%|████████▉ | 448/500 [00:24<00:02, 17.68it/s][Parallel(n_jobs=8)]: Done 434 tasks      | elapsed:   24.6s\n",
      "Building a1 cache: 100%|██████████| 500/500 [00:27<00:00, 18.39it/s]\n",
      "[Parallel(n_jobs=8)]: Done 500 out of 500 | elapsed:   28.1s finished\n",
      "<ipython-input-2-aa2845171f48>:26: RuntimeWarning: invalid value encountered in true_divide\n",
      "  p_a1 = p_a1 / np.sum(p_a1) / da1\n",
      "Building a1 cache:   0%|          | 0/500 [00:00<?, ?it/s][Parallel(n_jobs=8)]: Using backend LokyBackend with 8 concurrent workers.\n"
     ]
    },
    {
     "name": "stdout",
     "output_type": "stream",
     "text": [
      "q=0.5, xeff=-0.8\n"
     ]
    },
    {
     "name": "stderr",
     "output_type": "stream",
     "text": [
      "Building a1 cache:  10%|▉         | 48/500 [00:02<00:22, 20.48it/s][Parallel(n_jobs=8)]: Done  34 tasks      | elapsed:    2.3s\n",
      "Building a1 cache:  38%|███▊      | 192/500 [00:10<00:16, 18.59it/s][Parallel(n_jobs=8)]: Done 184 tasks      | elapsed:   10.5s\n",
      "Building a1 cache:  90%|████████▉ | 448/500 [00:24<00:02, 17.52it/s][Parallel(n_jobs=8)]: Done 434 tasks      | elapsed:   24.4s\n",
      "Building a1 cache: 100%|██████████| 500/500 [00:27<00:00, 18.44it/s]\n",
      "[Parallel(n_jobs=8)]: Done 500 out of 500 | elapsed:   28.0s finished\n",
      "Building a1 cache:   0%|          | 0/500 [00:00<?, ?it/s][Parallel(n_jobs=8)]: Using backend LokyBackend with 8 concurrent workers.\n"
     ]
    },
    {
     "name": "stdout",
     "output_type": "stream",
     "text": [
      "q=0.5, xeff=-0.6\n"
     ]
    },
    {
     "name": "stderr",
     "output_type": "stream",
     "text": [
      "Building a1 cache:  10%|▉         | 48/500 [00:02<00:22, 19.93it/s][Parallel(n_jobs=8)]: Done  34 tasks      | elapsed:    2.4s\n",
      "Building a1 cache:  38%|███▊      | 192/500 [00:10<00:17, 17.75it/s][Parallel(n_jobs=8)]: Done 184 tasks      | elapsed:   10.7s\n",
      "Building a1 cache:  90%|████████▉ | 448/500 [00:24<00:02, 17.55it/s][Parallel(n_jobs=8)]: Done 434 tasks      | elapsed:   25.0s\n",
      "Building a1 cache: 100%|██████████| 500/500 [00:27<00:00, 18.09it/s]\n",
      "[Parallel(n_jobs=8)]: Done 500 out of 500 | elapsed:   28.7s finished\n",
      "Building a1 cache:   0%|          | 0/500 [00:00<?, ?it/s][Parallel(n_jobs=8)]: Using backend LokyBackend with 8 concurrent workers.\n"
     ]
    },
    {
     "name": "stdout",
     "output_type": "stream",
     "text": [
      "q=0.5, xeff=-0.3999999999999999\n"
     ]
    },
    {
     "name": "stderr",
     "output_type": "stream",
     "text": [
      "Building a1 cache:  10%|▉         | 48/500 [00:02<00:22, 20.06it/s][Parallel(n_jobs=8)]: Done  34 tasks      | elapsed:    2.3s\n",
      "Building a1 cache:  38%|███▊      | 192/500 [00:10<00:17, 17.63it/s][Parallel(n_jobs=8)]: Done 184 tasks      | elapsed:   10.8s\n",
      "Building a1 cache:  90%|████████▉ | 448/500 [00:24<00:02, 17.87it/s][Parallel(n_jobs=8)]: Done 434 tasks      | elapsed:   24.7s\n",
      "Building a1 cache: 100%|██████████| 500/500 [00:27<00:00, 18.22it/s]\n",
      "[Parallel(n_jobs=8)]: Done 500 out of 500 | elapsed:   28.3s finished\n",
      "Building a1 cache:   0%|          | 0/500 [00:00<?, ?it/s][Parallel(n_jobs=8)]: Using backend LokyBackend with 8 concurrent workers.\n"
     ]
    },
    {
     "name": "stdout",
     "output_type": "stream",
     "text": [
      "q=0.5, xeff=-0.19999999999999996\n"
     ]
    },
    {
     "name": "stderr",
     "output_type": "stream",
     "text": [
      "Building a1 cache:  10%|▉         | 48/500 [00:02<00:21, 20.72it/s][Parallel(n_jobs=8)]: Done  34 tasks      | elapsed:    2.3s\n",
      "Building a1 cache:  38%|███▊      | 192/500 [00:10<00:16, 18.44it/s][Parallel(n_jobs=8)]: Done 184 tasks      | elapsed:   10.5s\n",
      "Building a1 cache:  90%|████████▉ | 448/500 [00:25<00:03, 15.24it/s][Parallel(n_jobs=8)]: Done 434 tasks      | elapsed:   25.3s\n",
      "Building a1 cache: 100%|██████████| 500/500 [00:28<00:00, 17.62it/s]\n",
      "[Parallel(n_jobs=8)]: Done 500 out of 500 | elapsed:   29.5s finished\n",
      "Building a1 cache:   0%|          | 0/500 [00:00<?, ?it/s][Parallel(n_jobs=8)]: Using backend LokyBackend with 8 concurrent workers.\n"
     ]
    },
    {
     "name": "stdout",
     "output_type": "stream",
     "text": [
      "q=0.5, xeff=0.0\n"
     ]
    },
    {
     "name": "stderr",
     "output_type": "stream",
     "text": [
      "Building a1 cache:  10%|▉         | 48/500 [00:02<00:25, 17.67it/s][Parallel(n_jobs=8)]: Done  34 tasks      | elapsed:    2.6s\n",
      "Building a1 cache:  38%|███▊      | 192/500 [00:11<00:19, 15.67it/s][Parallel(n_jobs=8)]: Done 184 tasks      | elapsed:   12.0s\n",
      "Building a1 cache:  90%|████████▉ | 448/500 [00:26<00:03, 17.04it/s][Parallel(n_jobs=8)]: Done 434 tasks      | elapsed:   26.4s\n",
      "Building a1 cache: 100%|██████████| 500/500 [00:29<00:00, 17.14it/s]\n",
      "[Parallel(n_jobs=8)]: Done 500 out of 500 | elapsed:   30.1s finished\n",
      "Building a1 cache:   0%|          | 0/500 [00:00<?, ?it/s][Parallel(n_jobs=8)]: Using backend LokyBackend with 8 concurrent workers.\n"
     ]
    },
    {
     "name": "stdout",
     "output_type": "stream",
     "text": [
      "q=0.5, xeff=0.20000000000000018\n"
     ]
    },
    {
     "name": "stderr",
     "output_type": "stream",
     "text": [
      "Building a1 cache:  10%|▉         | 48/500 [00:02<00:22, 19.90it/s][Parallel(n_jobs=8)]: Done  34 tasks      | elapsed:    2.3s\n",
      "Building a1 cache:  38%|███▊      | 192/500 [00:10<00:17, 17.46it/s][Parallel(n_jobs=8)]: Done 184 tasks      | elapsed:   10.8s\n",
      "Building a1 cache:  90%|████████▉ | 448/500 [00:25<00:02, 17.59it/s][Parallel(n_jobs=8)]: Done 434 tasks      | elapsed:   25.0s\n",
      "Building a1 cache: 100%|██████████| 500/500 [00:27<00:00, 17.97it/s]\n",
      "[Parallel(n_jobs=8)]: Done 500 out of 500 | elapsed:   28.8s finished\n",
      "Building a1 cache:   0%|          | 0/500 [00:00<?, ?it/s][Parallel(n_jobs=8)]: Using backend LokyBackend with 8 concurrent workers.\n"
     ]
    },
    {
     "name": "stdout",
     "output_type": "stream",
     "text": [
      "q=0.5, xeff=0.40000000000000013\n"
     ]
    },
    {
     "name": "stderr",
     "output_type": "stream",
     "text": [
      "Building a1 cache:  10%|▉         | 48/500 [00:02<00:21, 20.65it/s][Parallel(n_jobs=8)]: Done  34 tasks      | elapsed:    2.2s\n",
      "Building a1 cache:  38%|███▊      | 192/500 [00:09<00:16, 18.84it/s][Parallel(n_jobs=8)]: Done 184 tasks      | elapsed:   10.3s\n",
      "Building a1 cache:  90%|████████▉ | 448/500 [00:23<00:02, 18.25it/s][Parallel(n_jobs=8)]: Done 434 tasks      | elapsed:   24.0s\n",
      "Building a1 cache: 100%|██████████| 500/500 [00:26<00:00, 18.77it/s]\n",
      "[Parallel(n_jobs=8)]: Done 500 out of 500 | elapsed:   27.5s finished\n",
      "Building a1 cache:   0%|          | 0/500 [00:00<?, ?it/s]"
     ]
    },
    {
     "name": "stdout",
     "output_type": "stream",
     "text": [
      "q=0.5, xeff=0.6000000000000001\n"
     ]
    },
    {
     "name": "stderr",
     "output_type": "stream",
     "text": [
      "[Parallel(n_jobs=8)]: Using backend LokyBackend with 8 concurrent workers.\n",
      "Building a1 cache:  10%|▉         | 48/500 [00:02<00:21, 21.03it/s][Parallel(n_jobs=8)]: Done  34 tasks      | elapsed:    2.2s\n",
      "Building a1 cache:  38%|███▊      | 192/500 [00:10<00:17, 17.92it/s][Parallel(n_jobs=8)]: Done 184 tasks      | elapsed:   10.4s\n",
      "Building a1 cache:  90%|████████▉ | 448/500 [00:24<00:02, 17.53it/s][Parallel(n_jobs=8)]: Done 434 tasks      | elapsed:   24.6s\n",
      "Building a1 cache: 100%|██████████| 500/500 [00:27<00:00, 18.26it/s]\n",
      "[Parallel(n_jobs=8)]: Done 500 out of 500 | elapsed:   28.2s finished\n",
      "Building a1 cache:   0%|          | 0/500 [00:00<?, ?it/s][Parallel(n_jobs=8)]: Using backend LokyBackend with 8 concurrent workers.\n"
     ]
    },
    {
     "name": "stdout",
     "output_type": "stream",
     "text": [
      "q=0.5, xeff=0.8\n"
     ]
    },
    {
     "name": "stderr",
     "output_type": "stream",
     "text": [
      "Building a1 cache:  10%|▉         | 48/500 [00:02<00:22, 19.80it/s][Parallel(n_jobs=8)]: Done  34 tasks      | elapsed:    2.4s\n",
      "Building a1 cache:  38%|███▊      | 192/500 [00:10<00:17, 18.07it/s][Parallel(n_jobs=8)]: Done 184 tasks      | elapsed:   10.7s\n",
      "Building a1 cache:  90%|████████▉ | 448/500 [00:25<00:02, 17.69it/s][Parallel(n_jobs=8)]: Done 434 tasks      | elapsed:   25.5s\n",
      "Building a1 cache: 100%|██████████| 500/500 [00:27<00:00, 17.86it/s]\n",
      "[Parallel(n_jobs=8)]: Done 500 out of 500 | elapsed:   28.8s finished\n",
      "Building a1 cache:   0%|          | 0/500 [00:00<?, ?it/s][Parallel(n_jobs=8)]: Using backend LokyBackend with 8 concurrent workers.\n"
     ]
    },
    {
     "name": "stdout",
     "output_type": "stream",
     "text": [
      "q=0.5, xeff=1.0\n"
     ]
    },
    {
     "name": "stderr",
     "output_type": "stream",
     "text": [
      "Building a1 cache:  10%|▉         | 48/500 [00:02<00:20, 21.53it/s][Parallel(n_jobs=8)]: Done  34 tasks      | elapsed:    2.2s\n",
      "Building a1 cache:  38%|███▊      | 192/500 [00:09<00:15, 19.78it/s][Parallel(n_jobs=8)]: Done 184 tasks      | elapsed:    9.8s\n",
      "Building a1 cache:  90%|████████▉ | 448/500 [00:22<00:02, 19.92it/s][Parallel(n_jobs=8)]: Done 434 tasks      | elapsed:   22.6s\n",
      "Building a1 cache: 100%|██████████| 500/500 [00:24<00:00, 20.12it/s]\n",
      "[Parallel(n_jobs=8)]: Done 500 out of 500 | elapsed:   25.7s finished\n",
      "<ipython-input-2-aa2845171f48>:26: RuntimeWarning: invalid value encountered in true_divide\n",
      "  p_a1 = p_a1 / np.sum(p_a1) / da1\n",
      "Building a1 cache:   0%|          | 0/500 [00:00<?, ?it/s][Parallel(n_jobs=8)]: Using backend LokyBackend with 8 concurrent workers.\n"
     ]
    },
    {
     "name": "stdout",
     "output_type": "stream",
     "text": [
      "q=0.6000000000000001, xeff=-1.0\n"
     ]
    },
    {
     "name": "stderr",
     "output_type": "stream",
     "text": [
      "Building a1 cache:  10%|▉         | 48/500 [00:02<00:20, 21.84it/s][Parallel(n_jobs=8)]: Done  34 tasks      | elapsed:    2.1s\n",
      "Building a1 cache:  38%|███▊      | 192/500 [00:09<00:15, 20.18it/s][Parallel(n_jobs=8)]: Done 184 tasks      | elapsed:    9.5s\n",
      "Building a1 cache:  90%|████████▉ | 448/500 [00:22<00:02, 19.11it/s][Parallel(n_jobs=8)]: Done 434 tasks      | elapsed:   22.3s\n",
      "Building a1 cache: 100%|██████████| 500/500 [00:24<00:00, 20.15it/s]\n",
      "[Parallel(n_jobs=8)]: Done 500 out of 500 | elapsed:   25.7s finished\n",
      "<ipython-input-2-aa2845171f48>:26: RuntimeWarning: invalid value encountered in true_divide\n",
      "  p_a1 = p_a1 / np.sum(p_a1) / da1\n",
      "Building a1 cache:   0%|          | 0/500 [00:00<?, ?it/s][Parallel(n_jobs=8)]: Using backend LokyBackend with 8 concurrent workers.\n"
     ]
    },
    {
     "name": "stdout",
     "output_type": "stream",
     "text": [
      "q=0.6000000000000001, xeff=-0.8\n"
     ]
    },
    {
     "name": "stderr",
     "output_type": "stream",
     "text": [
      "Building a1 cache:  10%|▉         | 48/500 [00:02<00:21, 21.49it/s][Parallel(n_jobs=8)]: Done  34 tasks      | elapsed:    2.2s\n",
      "Building a1 cache:  38%|███▊      | 192/500 [00:09<00:16, 19.15it/s][Parallel(n_jobs=8)]: Done 184 tasks      | elapsed:   10.1s\n",
      "Building a1 cache:  90%|████████▉ | 448/500 [00:23<00:02, 19.23it/s][Parallel(n_jobs=8)]: Done 434 tasks      | elapsed:   23.2s\n",
      "Building a1 cache: 100%|██████████| 500/500 [00:25<00:00, 19.49it/s]\n",
      "[Parallel(n_jobs=8)]: Done 500 out of 500 | elapsed:   26.5s finished\n",
      "Building a1 cache:   0%|          | 0/500 [00:00<?, ?it/s][Parallel(n_jobs=8)]: Using backend LokyBackend with 8 concurrent workers.\n"
     ]
    },
    {
     "name": "stdout",
     "output_type": "stream",
     "text": [
      "q=0.6000000000000001, xeff=-0.6\n"
     ]
    },
    {
     "name": "stderr",
     "output_type": "stream",
     "text": [
      "Building a1 cache:  10%|▉         | 48/500 [00:02<00:20, 22.03it/s][Parallel(n_jobs=8)]: Done  34 tasks      | elapsed:    2.1s\n",
      "Building a1 cache:  38%|███▊      | 192/500 [00:09<00:15, 20.49it/s][Parallel(n_jobs=8)]: Done 184 tasks      | elapsed:    9.5s\n",
      "Building a1 cache:  90%|████████▉ | 448/500 [00:21<00:02, 20.13it/s][Parallel(n_jobs=8)]: Done 434 tasks      | elapsed:   22.0s\n",
      "Building a1 cache: 100%|██████████| 500/500 [00:24<00:00, 20.49it/s]\n",
      "[Parallel(n_jobs=8)]: Done 500 out of 500 | elapsed:   25.2s finished\n",
      "Building a1 cache:   0%|          | 0/500 [00:00<?, ?it/s][Parallel(n_jobs=8)]: Using backend LokyBackend with 8 concurrent workers.\n"
     ]
    },
    {
     "name": "stdout",
     "output_type": "stream",
     "text": [
      "q=0.6000000000000001, xeff=-0.3999999999999999\n"
     ]
    },
    {
     "name": "stderr",
     "output_type": "stream",
     "text": [
      "Building a1 cache:  10%|▉         | 48/500 [00:01<00:19, 23.47it/s][Parallel(n_jobs=8)]: Done  34 tasks      | elapsed:    2.0s\n",
      "Building a1 cache:  38%|███▊      | 192/500 [00:09<00:15, 19.58it/s][Parallel(n_jobs=8)]: Done 184 tasks      | elapsed:    9.5s\n",
      "Building a1 cache:  90%|████████▉ | 448/500 [00:22<00:02, 19.21it/s][Parallel(n_jobs=8)]: Done 434 tasks      | elapsed:   22.4s\n",
      "Building a1 cache: 100%|██████████| 500/500 [00:24<00:00, 20.09it/s]\n",
      "[Parallel(n_jobs=8)]: Done 500 out of 500 | elapsed:   25.9s finished\n",
      "Building a1 cache:   0%|          | 0/500 [00:00<?, ?it/s][Parallel(n_jobs=8)]: Using backend LokyBackend with 8 concurrent workers.\n"
     ]
    },
    {
     "name": "stdout",
     "output_type": "stream",
     "text": [
      "q=0.6000000000000001, xeff=-0.19999999999999996\n"
     ]
    },
    {
     "name": "stderr",
     "output_type": "stream",
     "text": [
      "Building a1 cache:  10%|▉         | 48/500 [00:02<00:20, 22.37it/s][Parallel(n_jobs=8)]: Done  34 tasks      | elapsed:    2.0s\n",
      "Building a1 cache:  38%|███▊      | 192/500 [00:09<00:15, 19.77it/s][Parallel(n_jobs=8)]: Done 184 tasks      | elapsed:    9.7s\n",
      "Building a1 cache:  90%|████████▉ | 448/500 [00:22<00:02, 19.34it/s][Parallel(n_jobs=8)]: Done 434 tasks      | elapsed:   22.7s\n",
      "Building a1 cache: 100%|██████████| 500/500 [00:25<00:00, 19.89it/s]\n",
      "[Parallel(n_jobs=8)]: Done 500 out of 500 | elapsed:   26.0s finished\n",
      "Building a1 cache:   0%|          | 0/500 [00:00<?, ?it/s][Parallel(n_jobs=8)]: Using backend LokyBackend with 8 concurrent workers.\n"
     ]
    },
    {
     "name": "stdout",
     "output_type": "stream",
     "text": [
      "q=0.6000000000000001, xeff=0.0\n"
     ]
    },
    {
     "name": "stderr",
     "output_type": "stream",
     "text": [
      "Building a1 cache:  10%|▉         | 48/500 [00:02<00:20, 21.94it/s][Parallel(n_jobs=8)]: Done  34 tasks      | elapsed:    2.1s\n",
      "Building a1 cache:  38%|███▊      | 192/500 [00:09<00:15, 19.73it/s][Parallel(n_jobs=8)]: Done 184 tasks      | elapsed:    9.7s\n",
      "Building a1 cache:  90%|████████▉ | 448/500 [00:22<00:02, 19.16it/s][Parallel(n_jobs=8)]: Done 434 tasks      | elapsed:   22.7s\n",
      "Building a1 cache: 100%|██████████| 500/500 [00:25<00:00, 19.90it/s]\n",
      "[Parallel(n_jobs=8)]: Done 500 out of 500 | elapsed:   26.0s finished\n",
      "Building a1 cache:   0%|          | 0/500 [00:00<?, ?it/s][Parallel(n_jobs=8)]: Using backend LokyBackend with 8 concurrent workers.\n"
     ]
    },
    {
     "name": "stdout",
     "output_type": "stream",
     "text": [
      "q=0.6000000000000001, xeff=0.20000000000000018\n"
     ]
    },
    {
     "name": "stderr",
     "output_type": "stream",
     "text": [
      "Building a1 cache:  10%|▉         | 48/500 [00:02<00:20, 22.07it/s][Parallel(n_jobs=8)]: Done  34 tasks      | elapsed:    2.1s\n",
      "Building a1 cache:  38%|███▊      | 192/500 [00:09<00:15, 19.67it/s][Parallel(n_jobs=8)]: Done 184 tasks      | elapsed:    9.8s\n",
      "Building a1 cache:  90%|████████▉ | 448/500 [00:22<00:02, 19.20it/s][Parallel(n_jobs=8)]: Done 434 tasks      | elapsed:   22.7s\n",
      "Building a1 cache: 100%|██████████| 500/500 [00:25<00:00, 19.90it/s]\n",
      "[Parallel(n_jobs=8)]: Done 500 out of 500 | elapsed:   26.0s finished\n",
      "Building a1 cache:   0%|          | 0/500 [00:00<?, ?it/s][Parallel(n_jobs=8)]: Using backend LokyBackend with 8 concurrent workers.\n"
     ]
    },
    {
     "name": "stdout",
     "output_type": "stream",
     "text": [
      "q=0.6000000000000001, xeff=0.40000000000000013\n"
     ]
    },
    {
     "name": "stderr",
     "output_type": "stream",
     "text": [
      "Building a1 cache:  10%|▉         | 48/500 [00:02<00:20, 22.38it/s][Parallel(n_jobs=8)]: Done  34 tasks      | elapsed:    2.0s\n",
      "Building a1 cache:  38%|███▊      | 192/500 [00:09<00:15, 19.93it/s][Parallel(n_jobs=8)]: Done 184 tasks      | elapsed:    9.7s\n",
      "Building a1 cache:  90%|████████▉ | 448/500 [00:22<00:02, 19.75it/s][Parallel(n_jobs=8)]: Done 434 tasks      | elapsed:   22.6s\n",
      "Building a1 cache: 100%|██████████| 500/500 [00:24<00:00, 20.03it/s]\n",
      "[Parallel(n_jobs=8)]: Done 500 out of 500 | elapsed:   25.7s finished\n",
      "Building a1 cache:   0%|          | 0/500 [00:00<?, ?it/s][Parallel(n_jobs=8)]: Using backend LokyBackend with 8 concurrent workers.\n"
     ]
    },
    {
     "name": "stdout",
     "output_type": "stream",
     "text": [
      "q=0.6000000000000001, xeff=0.6000000000000001\n"
     ]
    },
    {
     "name": "stderr",
     "output_type": "stream",
     "text": [
      "Building a1 cache:  10%|▉         | 48/500 [00:01<00:19, 23.48it/s][Parallel(n_jobs=8)]: Done  34 tasks      | elapsed:    2.0s\n",
      "Building a1 cache:  38%|███▊      | 192/500 [00:09<00:15, 20.41it/s][Parallel(n_jobs=8)]: Done 184 tasks      | elapsed:    9.3s\n",
      "Building a1 cache:  90%|████████▉ | 448/500 [00:21<00:02, 19.45it/s][Parallel(n_jobs=8)]: Done 434 tasks      | elapsed:   21.8s\n",
      "Building a1 cache: 100%|██████████| 500/500 [00:24<00:00, 20.55it/s]\n",
      "[Parallel(n_jobs=8)]: Done 500 out of 500 | elapsed:   25.1s finished\n",
      "Building a1 cache:   0%|          | 0/500 [00:00<?, ?it/s][Parallel(n_jobs=8)]: Using backend LokyBackend with 8 concurrent workers.\n"
     ]
    },
    {
     "name": "stdout",
     "output_type": "stream",
     "text": [
      "q=0.6000000000000001, xeff=0.8\n"
     ]
    },
    {
     "name": "stderr",
     "output_type": "stream",
     "text": [
      "Building a1 cache:  10%|▉         | 48/500 [00:02<00:20, 22.05it/s][Parallel(n_jobs=8)]: Done  34 tasks      | elapsed:    2.1s\n",
      "Building a1 cache:  38%|███▊      | 192/500 [00:09<00:16, 18.85it/s][Parallel(n_jobs=8)]: Done 184 tasks      | elapsed:    9.9s\n",
      "Building a1 cache:  90%|████████▉ | 448/500 [00:22<00:02, 19.42it/s][Parallel(n_jobs=8)]: Done 434 tasks      | elapsed:   22.6s\n",
      "Building a1 cache: 100%|██████████| 500/500 [00:25<00:00, 19.88it/s]\n",
      "[Parallel(n_jobs=8)]: Done 500 out of 500 | elapsed:   26.0s finished\n",
      "Building a1 cache:   0%|          | 0/500 [00:00<?, ?it/s][Parallel(n_jobs=8)]: Using backend LokyBackend with 8 concurrent workers.\n"
     ]
    },
    {
     "name": "stdout",
     "output_type": "stream",
     "text": [
      "q=0.6000000000000001, xeff=1.0\n"
     ]
    },
    {
     "name": "stderr",
     "output_type": "stream",
     "text": [
      "Building a1 cache:  10%|▉         | 48/500 [00:02<00:21, 21.36it/s][Parallel(n_jobs=8)]: Done  34 tasks      | elapsed:    2.2s\n",
      "Building a1 cache:  38%|███▊      | 192/500 [00:09<00:16, 19.05it/s][Parallel(n_jobs=8)]: Done 184 tasks      | elapsed:    9.9s\n",
      "Building a1 cache:  90%|████████▉ | 448/500 [00:22<00:02, 19.06it/s][Parallel(n_jobs=8)]: Done 434 tasks      | elapsed:   22.8s\n",
      "Building a1 cache: 100%|██████████| 500/500 [00:25<00:00, 19.78it/s]\n",
      "[Parallel(n_jobs=8)]: Done 500 out of 500 | elapsed:   26.1s finished\n",
      "<ipython-input-2-aa2845171f48>:26: RuntimeWarning: invalid value encountered in true_divide\n",
      "  p_a1 = p_a1 / np.sum(p_a1) / da1\n",
      "Building a1 cache:   0%|          | 0/500 [00:00<?, ?it/s][Parallel(n_jobs=8)]: Using backend LokyBackend with 8 concurrent workers.\n"
     ]
    },
    {
     "name": "stdout",
     "output_type": "stream",
     "text": [
      "q=0.7000000000000001, xeff=-1.0\n"
     ]
    },
    {
     "name": "stderr",
     "output_type": "stream",
     "text": [
      "Building a1 cache:  10%|▉         | 48/500 [00:02<00:20, 21.97it/s][Parallel(n_jobs=8)]: Done  34 tasks      | elapsed:    2.1s\n",
      "Building a1 cache:  38%|███▊      | 192/500 [00:09<00:15, 19.78it/s][Parallel(n_jobs=8)]: Done 184 tasks      | elapsed:    9.7s\n",
      "Building a1 cache:  90%|████████▉ | 448/500 [00:22<00:02, 18.81it/s][Parallel(n_jobs=8)]: Done 434 tasks      | elapsed:   22.7s\n",
      "Building a1 cache: 100%|██████████| 500/500 [00:25<00:00, 19.89it/s]\n",
      "[Parallel(n_jobs=8)]: Done 500 out of 500 | elapsed:   26.0s finished\n",
      "<ipython-input-2-aa2845171f48>:26: RuntimeWarning: invalid value encountered in true_divide\n",
      "  p_a1 = p_a1 / np.sum(p_a1) / da1\n",
      "Building a1 cache:   0%|          | 0/500 [00:00<?, ?it/s][Parallel(n_jobs=8)]: Using backend LokyBackend with 8 concurrent workers.\n"
     ]
    },
    {
     "name": "stdout",
     "output_type": "stream",
     "text": [
      "q=0.7000000000000001, xeff=-0.8\n"
     ]
    },
    {
     "name": "stderr",
     "output_type": "stream",
     "text": [
      "Building a1 cache:  10%|▉         | 48/500 [00:02<00:20, 22.16it/s][Parallel(n_jobs=8)]: Done  34 tasks      | elapsed:    2.1s\n",
      "Building a1 cache:  38%|███▊      | 192/500 [00:09<00:15, 19.75it/s][Parallel(n_jobs=8)]: Done 184 tasks      | elapsed:    9.7s\n",
      "Building a1 cache:  90%|████████▉ | 448/500 [00:22<00:02, 20.15it/s][Parallel(n_jobs=8)]: Done 434 tasks      | elapsed:   22.2s\n",
      "Building a1 cache: 100%|██████████| 500/500 [00:24<00:00, 20.31it/s]\n",
      "[Parallel(n_jobs=8)]: Done 500 out of 500 | elapsed:   25.4s finished\n",
      "Building a1 cache:   0%|          | 0/500 [00:00<?, ?it/s][Parallel(n_jobs=8)]: Using backend LokyBackend with 8 concurrent workers.\n"
     ]
    },
    {
     "name": "stdout",
     "output_type": "stream",
     "text": [
      "q=0.7000000000000001, xeff=-0.6\n"
     ]
    },
    {
     "name": "stderr",
     "output_type": "stream",
     "text": [
      "Building a1 cache:  10%|▉         | 48/500 [00:01<00:19, 22.97it/s][Parallel(n_jobs=8)]: Done  34 tasks      | elapsed:    2.0s\n",
      "Building a1 cache:  38%|███▊      | 192/500 [00:09<00:14, 20.54it/s][Parallel(n_jobs=8)]: Done 184 tasks      | elapsed:    9.4s\n",
      "Building a1 cache:  90%|████████▉ | 448/500 [00:22<00:02, 19.20it/s][Parallel(n_jobs=8)]: Done 434 tasks      | elapsed:   22.3s\n",
      "Building a1 cache: 100%|██████████| 500/500 [00:24<00:00, 20.22it/s]\n",
      "[Parallel(n_jobs=8)]: Done 500 out of 500 | elapsed:   25.5s finished\n",
      "Building a1 cache:   0%|          | 0/500 [00:00<?, ?it/s][Parallel(n_jobs=8)]: Using backend LokyBackend with 8 concurrent workers.\n"
     ]
    },
    {
     "name": "stdout",
     "output_type": "stream",
     "text": [
      "q=0.7000000000000001, xeff=-0.3999999999999999\n"
     ]
    },
    {
     "name": "stderr",
     "output_type": "stream",
     "text": [
      "Building a1 cache:  10%|▉         | 48/500 [00:02<00:20, 22.20it/s][Parallel(n_jobs=8)]: Done  34 tasks      | elapsed:    2.1s\n",
      "Building a1 cache:  38%|███▊      | 192/500 [00:09<00:15, 19.96it/s][Parallel(n_jobs=8)]: Done 184 tasks      | elapsed:    9.6s\n",
      "Building a1 cache:  90%|████████▉ | 448/500 [00:22<00:02, 19.30it/s][Parallel(n_jobs=8)]: Done 434 tasks      | elapsed:   22.5s\n",
      "Building a1 cache: 100%|██████████| 500/500 [00:25<00:00, 19.96it/s]\n",
      "[Parallel(n_jobs=8)]: Done 500 out of 500 | elapsed:   25.9s finished\n",
      "Building a1 cache:   0%|          | 0/500 [00:00<?, ?it/s][Parallel(n_jobs=8)]: Using backend LokyBackend with 8 concurrent workers.\n"
     ]
    },
    {
     "name": "stdout",
     "output_type": "stream",
     "text": [
      "q=0.7000000000000001, xeff=-0.19999999999999996\n"
     ]
    },
    {
     "name": "stderr",
     "output_type": "stream",
     "text": [
      "Building a1 cache:  10%|▉         | 48/500 [00:02<00:20, 22.10it/s][Parallel(n_jobs=8)]: Done  34 tasks      | elapsed:    2.1s\n",
      "Building a1 cache:  38%|███▊      | 192/500 [00:09<00:15, 19.56it/s][Parallel(n_jobs=8)]: Done 184 tasks      | elapsed:    9.7s\n",
      "Building a1 cache:  90%|████████▉ | 448/500 [00:22<00:02, 19.39it/s][Parallel(n_jobs=8)]: Done 434 tasks      | elapsed:   22.6s\n",
      "Building a1 cache: 100%|██████████| 500/500 [00:25<00:00, 19.94it/s]\n",
      "[Parallel(n_jobs=8)]: Done 500 out of 500 | elapsed:   25.9s finished\n",
      "Building a1 cache:   0%|          | 0/500 [00:00<?, ?it/s][Parallel(n_jobs=8)]: Using backend LokyBackend with 8 concurrent workers.\n"
     ]
    },
    {
     "name": "stdout",
     "output_type": "stream",
     "text": [
      "q=0.7000000000000001, xeff=0.0\n"
     ]
    },
    {
     "name": "stderr",
     "output_type": "stream",
     "text": [
      "Building a1 cache:  10%|▉         | 48/500 [00:02<00:19, 22.66it/s][Parallel(n_jobs=8)]: Done  34 tasks      | elapsed:    2.0s\n",
      "Building a1 cache:  38%|███▊      | 192/500 [00:09<00:17, 18.04it/s][Parallel(n_jobs=8)]: Done 184 tasks      | elapsed:   10.1s\n",
      "Building a1 cache:  90%|████████▉ | 448/500 [00:24<00:02, 17.81it/s][Parallel(n_jobs=8)]: Done 434 tasks      | elapsed:   24.2s\n",
      "Building a1 cache: 100%|██████████| 500/500 [00:26<00:00, 18.64it/s]\n",
      "[Parallel(n_jobs=8)]: Done 500 out of 500 | elapsed:   27.8s finished\n",
      "Building a1 cache:   0%|          | 0/500 [00:00<?, ?it/s][Parallel(n_jobs=8)]: Using backend LokyBackend with 8 concurrent workers.\n"
     ]
    },
    {
     "name": "stdout",
     "output_type": "stream",
     "text": [
      "q=0.7000000000000001, xeff=0.20000000000000018\n"
     ]
    },
    {
     "name": "stderr",
     "output_type": "stream",
     "text": [
      "Building a1 cache:  10%|▉         | 48/500 [00:01<00:19, 23.02it/s][Parallel(n_jobs=8)]: Done  34 tasks      | elapsed:    2.0s\n",
      "Building a1 cache:  38%|███▊      | 192/500 [00:09<00:15, 19.73it/s][Parallel(n_jobs=8)]: Done 184 tasks      | elapsed:    9.5s\n",
      "Building a1 cache:  90%|████████▉ | 448/500 [00:22<00:02, 19.27it/s][Parallel(n_jobs=8)]: Done 434 tasks      | elapsed:   22.5s\n",
      "Building a1 cache: 100%|██████████| 500/500 [00:25<00:00, 19.96it/s]\n",
      "[Parallel(n_jobs=8)]: Done 500 out of 500 | elapsed:   25.8s finished\n",
      "Building a1 cache:   0%|          | 0/500 [00:00<?, ?it/s][Parallel(n_jobs=8)]: Using backend LokyBackend with 8 concurrent workers.\n"
     ]
    },
    {
     "name": "stdout",
     "output_type": "stream",
     "text": [
      "q=0.7000000000000001, xeff=0.40000000000000013\n"
     ]
    },
    {
     "name": "stderr",
     "output_type": "stream",
     "text": [
      "Building a1 cache:  10%|▉         | 48/500 [00:02<00:20, 22.54it/s][Parallel(n_jobs=8)]: Done  34 tasks      | elapsed:    2.1s\n",
      "Building a1 cache:  38%|███▊      | 192/500 [00:09<00:15, 19.47it/s][Parallel(n_jobs=8)]: Done 184 tasks      | elapsed:    9.7s\n",
      "Building a1 cache:  90%|████████▉ | 448/500 [00:22<00:02, 19.51it/s][Parallel(n_jobs=8)]: Done 434 tasks      | elapsed:   22.6s\n",
      "Building a1 cache: 100%|██████████| 500/500 [00:25<00:00, 19.85it/s]\n",
      "[Parallel(n_jobs=8)]: Done 500 out of 500 | elapsed:   26.0s finished\n",
      "Building a1 cache:   0%|          | 0/500 [00:00<?, ?it/s][Parallel(n_jobs=8)]: Using backend LokyBackend with 8 concurrent workers.\n"
     ]
    },
    {
     "name": "stdout",
     "output_type": "stream",
     "text": [
      "q=0.7000000000000001, xeff=0.6000000000000001\n"
     ]
    },
    {
     "name": "stderr",
     "output_type": "stream",
     "text": [
      "Building a1 cache:  10%|▉         | 48/500 [00:02<00:20, 21.94it/s][Parallel(n_jobs=8)]: Done  34 tasks      | elapsed:    2.1s\n",
      "Building a1 cache:  38%|███▊      | 192/500 [00:09<00:15, 19.64it/s][Parallel(n_jobs=8)]: Done 184 tasks      | elapsed:    9.7s\n",
      "Building a1 cache:  90%|████████▉ | 448/500 [00:22<00:02, 20.09it/s][Parallel(n_jobs=8)]: Done 434 tasks      | elapsed:   22.2s\n",
      "Building a1 cache: 100%|██████████| 500/500 [00:24<00:00, 20.36it/s]\n",
      "[Parallel(n_jobs=8)]: Done 500 out of 500 | elapsed:   25.4s finished\n",
      "Building a1 cache:   0%|          | 0/500 [00:00<?, ?it/s][Parallel(n_jobs=8)]: Using backend LokyBackend with 8 concurrent workers.\n"
     ]
    },
    {
     "name": "stdout",
     "output_type": "stream",
     "text": [
      "q=0.7000000000000001, xeff=0.8\n"
     ]
    },
    {
     "name": "stderr",
     "output_type": "stream",
     "text": [
      "Building a1 cache:  10%|▉         | 48/500 [00:01<00:19, 22.94it/s][Parallel(n_jobs=8)]: Done  34 tasks      | elapsed:    2.0s\n",
      "Building a1 cache:  38%|███▊      | 192/500 [00:09<00:15, 20.50it/s][Parallel(n_jobs=8)]: Done 184 tasks      | elapsed:    9.4s\n",
      "Building a1 cache:  90%|████████▉ | 448/500 [00:22<00:02, 19.49it/s][Parallel(n_jobs=8)]: Done 434 tasks      | elapsed:   22.1s\n",
      "Building a1 cache: 100%|██████████| 500/500 [00:24<00:00, 20.34it/s]\n",
      "[Parallel(n_jobs=8)]: Done 500 out of 500 | elapsed:   25.4s finished\n",
      "Building a1 cache:   0%|          | 0/500 [00:00<?, ?it/s][Parallel(n_jobs=8)]: Using backend LokyBackend with 8 concurrent workers.\n"
     ]
    },
    {
     "name": "stdout",
     "output_type": "stream",
     "text": [
      "q=0.7000000000000001, xeff=1.0\n"
     ]
    },
    {
     "name": "stderr",
     "output_type": "stream",
     "text": [
      "Building a1 cache:  10%|▉         | 48/500 [00:02<00:20, 22.25it/s][Parallel(n_jobs=8)]: Done  34 tasks      | elapsed:    2.1s\n",
      "Building a1 cache:  38%|███▊      | 192/500 [00:09<00:15, 19.77it/s][Parallel(n_jobs=8)]: Done 184 tasks      | elapsed:    9.7s\n",
      "Building a1 cache:  90%|████████▉ | 448/500 [00:22<00:02, 19.05it/s][Parallel(n_jobs=8)]: Done 434 tasks      | elapsed:   22.7s\n",
      "Building a1 cache: 100%|██████████| 500/500 [00:25<00:00, 19.85it/s]\n",
      "[Parallel(n_jobs=8)]: Done 500 out of 500 | elapsed:   26.0s finished\n",
      "<ipython-input-2-aa2845171f48>:26: RuntimeWarning: invalid value encountered in true_divide\n",
      "  p_a1 = p_a1 / np.sum(p_a1) / da1\n",
      "Building a1 cache:   0%|          | 0/500 [00:00<?, ?it/s][Parallel(n_jobs=8)]: Using backend LokyBackend with 8 concurrent workers.\n"
     ]
    },
    {
     "name": "stdout",
     "output_type": "stream",
     "text": [
      "q=0.8, xeff=-1.0\n"
     ]
    },
    {
     "name": "stderr",
     "output_type": "stream",
     "text": [
      "Building a1 cache:  10%|▉         | 48/500 [00:02<00:20, 22.07it/s][Parallel(n_jobs=8)]: Done  34 tasks      | elapsed:    2.1s\n",
      "Building a1 cache:  38%|███▊      | 192/500 [00:09<00:15, 19.50it/s][Parallel(n_jobs=8)]: Done 184 tasks      | elapsed:    9.8s\n",
      "Building a1 cache:  90%|████████▉ | 448/500 [00:22<00:02, 19.55it/s][Parallel(n_jobs=8)]: Done 434 tasks      | elapsed:   22.7s\n",
      "Building a1 cache: 100%|██████████| 500/500 [00:25<00:00, 19.89it/s]\n",
      "[Parallel(n_jobs=8)]: Done 500 out of 500 | elapsed:   26.0s finished\n",
      "<ipython-input-2-aa2845171f48>:26: RuntimeWarning: invalid value encountered in true_divide\n",
      "  p_a1 = p_a1 / np.sum(p_a1) / da1\n",
      "Building a1 cache:   0%|          | 0/500 [00:00<?, ?it/s][Parallel(n_jobs=8)]: Using backend LokyBackend with 8 concurrent workers.\n"
     ]
    },
    {
     "name": "stdout",
     "output_type": "stream",
     "text": [
      "q=0.8, xeff=-0.8\n"
     ]
    },
    {
     "name": "stderr",
     "output_type": "stream",
     "text": [
      "Building a1 cache:  10%|▉         | 48/500 [00:02<00:20, 22.43it/s][Parallel(n_jobs=8)]: Done  34 tasks      | elapsed:    2.1s\n",
      "Building a1 cache:  38%|███▊      | 192/500 [00:09<00:15, 19.91it/s][Parallel(n_jobs=8)]: Done 184 tasks      | elapsed:    9.6s\n",
      "Building a1 cache:  90%|████████▉ | 448/500 [00:22<00:02, 19.90it/s][Parallel(n_jobs=8)]: Done 434 tasks      | elapsed:   22.2s\n",
      "Building a1 cache: 100%|██████████| 500/500 [00:24<00:00, 20.28it/s]\n",
      "[Parallel(n_jobs=8)]: Done 500 out of 500 | elapsed:   25.4s finished\n",
      "Building a1 cache:   0%|          | 0/500 [00:00<?, ?it/s][Parallel(n_jobs=8)]: Using backend LokyBackend with 8 concurrent workers.\n"
     ]
    },
    {
     "name": "stdout",
     "output_type": "stream",
     "text": [
      "q=0.8, xeff=-0.6\n"
     ]
    },
    {
     "name": "stderr",
     "output_type": "stream",
     "text": [
      "Building a1 cache:  10%|▉         | 48/500 [00:01<00:19, 23.25it/s][Parallel(n_jobs=8)]: Done  34 tasks      | elapsed:    2.0s\n",
      "Building a1 cache:  38%|███▊      | 192/500 [00:09<00:14, 20.55it/s][Parallel(n_jobs=8)]: Done 184 tasks      | elapsed:    9.4s\n",
      "Building a1 cache:  90%|████████▉ | 448/500 [00:21<00:02, 19.34it/s][Parallel(n_jobs=8)]: Done 434 tasks      | elapsed:   22.0s\n",
      "Building a1 cache: 100%|██████████| 500/500 [00:24<00:00, 20.45it/s]\n",
      "[Parallel(n_jobs=8)]: Done 500 out of 500 | elapsed:   25.3s finished\n",
      "Building a1 cache:   0%|          | 0/500 [00:00<?, ?it/s][Parallel(n_jobs=8)]: Using backend LokyBackend with 8 concurrent workers.\n"
     ]
    },
    {
     "name": "stdout",
     "output_type": "stream",
     "text": [
      "q=0.8, xeff=-0.3999999999999999\n"
     ]
    },
    {
     "name": "stderr",
     "output_type": "stream",
     "text": [
      "Building a1 cache:  10%|▉         | 48/500 [00:02<00:20, 22.18it/s][Parallel(n_jobs=8)]: Done  34 tasks      | elapsed:    2.1s\n",
      "Building a1 cache:  38%|███▊      | 192/500 [00:09<00:15, 19.41it/s][Parallel(n_jobs=8)]: Done 184 tasks      | elapsed:    9.7s\n",
      "Building a1 cache:  90%|████████▉ | 448/500 [00:22<00:02, 19.38it/s][Parallel(n_jobs=8)]: Done 434 tasks      | elapsed:   22.6s\n",
      "Building a1 cache: 100%|██████████| 500/500 [00:25<00:00, 19.94it/s]\n",
      "[Parallel(n_jobs=8)]: Done 500 out of 500 | elapsed:   25.9s finished\n",
      "Building a1 cache:   0%|          | 0/500 [00:00<?, ?it/s][Parallel(n_jobs=8)]: Using backend LokyBackend with 8 concurrent workers.\n"
     ]
    },
    {
     "name": "stdout",
     "output_type": "stream",
     "text": [
      "q=0.8, xeff=-0.19999999999999996\n"
     ]
    },
    {
     "name": "stderr",
     "output_type": "stream",
     "text": [
      "Building a1 cache:  10%|▉         | 48/500 [00:02<00:20, 22.11it/s][Parallel(n_jobs=8)]: Done  34 tasks      | elapsed:    2.1s\n",
      "Building a1 cache:  38%|███▊      | 192/500 [00:09<00:15, 19.71it/s][Parallel(n_jobs=8)]: Done 184 tasks      | elapsed:    9.6s\n",
      "Building a1 cache:  90%|████████▉ | 448/500 [00:22<00:02, 19.93it/s][Parallel(n_jobs=8)]: Done 434 tasks      | elapsed:   22.2s\n",
      "Building a1 cache: 100%|██████████| 500/500 [00:24<00:00, 20.31it/s]\n",
      "[Parallel(n_jobs=8)]: Done 500 out of 500 | elapsed:   25.5s finished\n",
      "Building a1 cache:   0%|          | 0/500 [00:00<?, ?it/s][Parallel(n_jobs=8)]: Using backend LokyBackend with 8 concurrent workers.\n"
     ]
    },
    {
     "name": "stdout",
     "output_type": "stream",
     "text": [
      "q=0.8, xeff=0.0\n"
     ]
    },
    {
     "name": "stderr",
     "output_type": "stream",
     "text": [
      "Building a1 cache:  10%|▉         | 48/500 [00:02<00:21, 21.42it/s][Parallel(n_jobs=8)]: Done  34 tasks      | elapsed:    2.1s\n",
      "Building a1 cache:  38%|███▊      | 192/500 [00:09<00:15, 19.76it/s][Parallel(n_jobs=8)]: Done 184 tasks      | elapsed:    9.9s\n",
      "Building a1 cache:  90%|████████▉ | 448/500 [00:22<00:02, 19.32it/s][Parallel(n_jobs=8)]: Done 434 tasks      | elapsed:   22.8s\n",
      "Building a1 cache: 100%|██████████| 500/500 [00:25<00:00, 19.78it/s]\n",
      "[Parallel(n_jobs=8)]: Done 500 out of 500 | elapsed:   26.1s finished\n",
      "Building a1 cache:   0%|          | 0/500 [00:00<?, ?it/s][Parallel(n_jobs=8)]: Using backend LokyBackend with 8 concurrent workers.\n"
     ]
    },
    {
     "name": "stdout",
     "output_type": "stream",
     "text": [
      "q=0.8, xeff=0.20000000000000018\n"
     ]
    },
    {
     "name": "stderr",
     "output_type": "stream",
     "text": [
      "Building a1 cache:  10%|▉         | 48/500 [00:02<00:19, 22.75it/s][Parallel(n_jobs=8)]: Done  34 tasks      | elapsed:    2.0s\n",
      "Building a1 cache:  38%|███▊      | 192/500 [00:09<00:15, 20.51it/s][Parallel(n_jobs=8)]: Done 184 tasks      | elapsed:    9.3s\n",
      "Building a1 cache:  90%|████████▉ | 448/500 [00:21<00:02, 19.68it/s][Parallel(n_jobs=8)]: Done 434 tasks      | elapsed:   21.9s\n",
      "Building a1 cache: 100%|██████████| 500/500 [00:24<00:00, 20.51it/s]\n",
      "[Parallel(n_jobs=8)]: Done 500 out of 500 | elapsed:   25.2s finished\n",
      "Building a1 cache:   0%|          | 0/500 [00:00<?, ?it/s][Parallel(n_jobs=8)]: Using backend LokyBackend with 8 concurrent workers.\n"
     ]
    },
    {
     "name": "stdout",
     "output_type": "stream",
     "text": [
      "q=0.8, xeff=0.40000000000000013\n"
     ]
    },
    {
     "name": "stderr",
     "output_type": "stream",
     "text": [
      "Building a1 cache:  10%|▉         | 48/500 [00:02<00:20, 22.15it/s][Parallel(n_jobs=8)]: Done  34 tasks      | elapsed:    2.1s\n",
      "Building a1 cache:  38%|███▊      | 192/500 [00:09<00:15, 19.78it/s][Parallel(n_jobs=8)]: Done 184 tasks      | elapsed:    9.7s\n",
      "Building a1 cache:  90%|████████▉ | 448/500 [00:22<00:02, 19.39it/s][Parallel(n_jobs=8)]: Done 434 tasks      | elapsed:   22.7s\n",
      "Building a1 cache: 100%|██████████| 500/500 [00:25<00:00, 19.96it/s]\n",
      "[Parallel(n_jobs=8)]: Done 500 out of 500 | elapsed:   25.9s finished\n",
      "Building a1 cache:   0%|          | 0/500 [00:00<?, ?it/s][Parallel(n_jobs=8)]: Using backend LokyBackend with 8 concurrent workers.\n"
     ]
    },
    {
     "name": "stdout",
     "output_type": "stream",
     "text": [
      "q=0.8, xeff=0.6000000000000001\n"
     ]
    },
    {
     "name": "stderr",
     "output_type": "stream",
     "text": [
      "Building a1 cache:  10%|▉         | 48/500 [00:02<00:20, 22.27it/s][Parallel(n_jobs=8)]: Done  34 tasks      | elapsed:    2.0s\n",
      "Building a1 cache:  38%|███▊      | 192/500 [00:09<00:14, 20.55it/s][Parallel(n_jobs=8)]: Done 184 tasks      | elapsed:    9.5s\n",
      "Building a1 cache:  90%|████████▉ | 448/500 [00:21<00:02, 19.65it/s][Parallel(n_jobs=8)]: Done 434 tasks      | elapsed:   22.0s\n",
      "Building a1 cache: 100%|██████████| 500/500 [00:24<00:00, 20.46it/s]\n",
      "[Parallel(n_jobs=8)]: Done 500 out of 500 | elapsed:   25.3s finished\n",
      "Building a1 cache:   0%|          | 0/500 [00:00<?, ?it/s]"
     ]
    },
    {
     "name": "stdout",
     "output_type": "stream",
     "text": [
      "q=0.8, xeff=0.8\n"
     ]
    },
    {
     "name": "stderr",
     "output_type": "stream",
     "text": [
      "[Parallel(n_jobs=8)]: Using backend LokyBackend with 8 concurrent workers.\n",
      "Building a1 cache:  10%|▉         | 48/500 [00:02<00:20, 22.05it/s][Parallel(n_jobs=8)]: Done  34 tasks      | elapsed:    2.2s\n",
      "Building a1 cache:  38%|███▊      | 192/500 [00:09<00:15, 19.39it/s][Parallel(n_jobs=8)]: Done 184 tasks      | elapsed:    9.8s\n",
      "Building a1 cache:  90%|████████▉ | 448/500 [00:22<00:02, 19.36it/s][Parallel(n_jobs=8)]: Done 434 tasks      | elapsed:   22.7s\n",
      "Building a1 cache: 100%|██████████| 500/500 [00:25<00:00, 19.81it/s]\n",
      "[Parallel(n_jobs=8)]: Done 500 out of 500 | elapsed:   26.1s finished\n",
      "Building a1 cache:   0%|          | 0/500 [00:00<?, ?it/s][Parallel(n_jobs=8)]: Using backend LokyBackend with 8 concurrent workers.\n"
     ]
    },
    {
     "name": "stdout",
     "output_type": "stream",
     "text": [
      "q=0.8, xeff=1.0\n"
     ]
    },
    {
     "name": "stderr",
     "output_type": "stream",
     "text": [
      "Building a1 cache:  10%|▉         | 48/500 [00:02<00:20, 22.25it/s][Parallel(n_jobs=8)]: Done  34 tasks      | elapsed:    2.1s\n",
      "Building a1 cache:  38%|███▊      | 192/500 [00:09<00:15, 19.45it/s][Parallel(n_jobs=8)]: Done 184 tasks      | elapsed:    9.7s\n",
      "Building a1 cache:  90%|████████▉ | 448/500 [00:22<00:02, 20.14it/s][Parallel(n_jobs=8)]: Done 434 tasks      | elapsed:   22.4s\n",
      "Building a1 cache: 100%|██████████| 500/500 [00:24<00:00, 20.09it/s]\n",
      "[Parallel(n_jobs=8)]: Done 500 out of 500 | elapsed:   25.7s finished\n",
      "<ipython-input-2-aa2845171f48>:26: RuntimeWarning: invalid value encountered in true_divide\n",
      "  p_a1 = p_a1 / np.sum(p_a1) / da1\n",
      "Building a1 cache:   0%|          | 0/500 [00:00<?, ?it/s][Parallel(n_jobs=8)]: Using backend LokyBackend with 8 concurrent workers.\n"
     ]
    },
    {
     "name": "stdout",
     "output_type": "stream",
     "text": [
      "q=0.9, xeff=-1.0\n"
     ]
    },
    {
     "name": "stderr",
     "output_type": "stream",
     "text": [
      "Building a1 cache:  10%|▉         | 48/500 [00:02<00:20, 22.22it/s][Parallel(n_jobs=8)]: Done  34 tasks      | elapsed:    2.1s\n",
      "Building a1 cache:  38%|███▊      | 192/500 [00:09<00:15, 19.52it/s][Parallel(n_jobs=8)]: Done 184 tasks      | elapsed:    9.7s\n",
      "Building a1 cache:  90%|████████▉ | 448/500 [00:22<00:02, 19.40it/s][Parallel(n_jobs=8)]: Done 434 tasks      | elapsed:   22.6s\n",
      "Building a1 cache: 100%|██████████| 500/500 [00:24<00:00, 20.05it/s]\n",
      "[Parallel(n_jobs=8)]: Done 500 out of 500 | elapsed:   25.8s finished\n",
      "<ipython-input-2-aa2845171f48>:26: RuntimeWarning: invalid value encountered in true_divide\n",
      "  p_a1 = p_a1 / np.sum(p_a1) / da1\n",
      "Building a1 cache:   0%|          | 0/500 [00:00<?, ?it/s][Parallel(n_jobs=8)]: Using backend LokyBackend with 8 concurrent workers.\n"
     ]
    },
    {
     "name": "stdout",
     "output_type": "stream",
     "text": [
      "q=0.9, xeff=-0.8\n"
     ]
    },
    {
     "name": "stderr",
     "output_type": "stream",
     "text": [
      "Building a1 cache:  10%|▉         | 48/500 [00:02<00:20, 22.13it/s][Parallel(n_jobs=8)]: Done  34 tasks      | elapsed:    2.1s\n",
      "Building a1 cache:  38%|███▊      | 192/500 [00:09<00:15, 19.27it/s][Parallel(n_jobs=8)]: Done 184 tasks      | elapsed:    9.7s\n",
      "Building a1 cache:  90%|████████▉ | 448/500 [00:22<00:02, 18.93it/s][Parallel(n_jobs=8)]: Done 434 tasks      | elapsed:   22.8s\n",
      "Building a1 cache: 100%|██████████| 500/500 [00:25<00:00, 19.80it/s]\n",
      "[Parallel(n_jobs=8)]: Done 500 out of 500 | elapsed:   26.1s finished\n",
      "Building a1 cache:   0%|          | 0/500 [00:00<?, ?it/s][Parallel(n_jobs=8)]: Using backend LokyBackend with 8 concurrent workers.\n"
     ]
    },
    {
     "name": "stdout",
     "output_type": "stream",
     "text": [
      "q=0.9, xeff=-0.6\n"
     ]
    },
    {
     "name": "stderr",
     "output_type": "stream",
     "text": [
      "Building a1 cache:  10%|▉         | 48/500 [00:02<00:20, 21.98it/s][Parallel(n_jobs=8)]: Done  34 tasks      | elapsed:    2.1s\n",
      "Building a1 cache:  38%|███▊      | 192/500 [00:09<00:15, 19.69it/s][Parallel(n_jobs=8)]: Done 184 tasks      | elapsed:    9.7s\n",
      "Building a1 cache:  90%|████████▉ | 448/500 [00:22<00:02, 19.41it/s][Parallel(n_jobs=8)]: Done 434 tasks      | elapsed:   22.3s\n",
      "Building a1 cache: 100%|██████████| 500/500 [00:24<00:00, 20.24it/s]\n",
      "[Parallel(n_jobs=8)]: Done 500 out of 500 | elapsed:   25.7s finished\n",
      "Building a1 cache:   0%|          | 0/500 [00:00<?, ?it/s][Parallel(n_jobs=8)]: Using backend LokyBackend with 8 concurrent workers.\n"
     ]
    },
    {
     "name": "stdout",
     "output_type": "stream",
     "text": [
      "q=0.9, xeff=-0.3999999999999999\n"
     ]
    },
    {
     "name": "stderr",
     "output_type": "stream",
     "text": [
      "Building a1 cache:  10%|▉         | 48/500 [00:02<00:20, 22.03it/s][Parallel(n_jobs=8)]: Done  34 tasks      | elapsed:    2.1s\n",
      "Building a1 cache:  38%|███▊      | 192/500 [00:09<00:15, 20.38it/s][Parallel(n_jobs=8)]: Done 184 tasks      | elapsed:    9.5s\n",
      "Building a1 cache:  90%|████████▉ | 448/500 [00:22<00:02, 19.78it/s][Parallel(n_jobs=8)]: Done 434 tasks      | elapsed:   22.4s\n",
      "Building a1 cache: 100%|██████████| 500/500 [00:24<00:00, 20.13it/s]\n",
      "[Parallel(n_jobs=8)]: Done 500 out of 500 | elapsed:   25.7s finished\n",
      "Building a1 cache:   0%|          | 0/500 [00:00<?, ?it/s][Parallel(n_jobs=8)]: Using backend LokyBackend with 8 concurrent workers.\n"
     ]
    },
    {
     "name": "stdout",
     "output_type": "stream",
     "text": [
      "q=0.9, xeff=-0.19999999999999996\n"
     ]
    },
    {
     "name": "stderr",
     "output_type": "stream",
     "text": [
      "Building a1 cache:  10%|▉         | 48/500 [00:02<00:20, 22.32it/s][Parallel(n_jobs=8)]: Done  34 tasks      | elapsed:    2.1s\n",
      "Building a1 cache:  38%|███▊      | 192/500 [00:09<00:15, 19.50it/s][Parallel(n_jobs=8)]: Done 184 tasks      | elapsed:    9.6s\n",
      "Building a1 cache:  90%|████████▉ | 448/500 [00:22<00:02, 19.76it/s][Parallel(n_jobs=8)]: Done 434 tasks      | elapsed:   22.3s\n",
      "Building a1 cache: 100%|██████████| 500/500 [00:24<00:00, 20.21it/s]\n",
      "[Parallel(n_jobs=8)]: Done 500 out of 500 | elapsed:   25.6s finished\n",
      "Building a1 cache:   0%|          | 0/500 [00:00<?, ?it/s][Parallel(n_jobs=8)]: Using backend LokyBackend with 8 concurrent workers.\n"
     ]
    },
    {
     "name": "stdout",
     "output_type": "stream",
     "text": [
      "q=0.9, xeff=0.0\n"
     ]
    },
    {
     "name": "stderr",
     "output_type": "stream",
     "text": [
      "Building a1 cache:  10%|▉         | 48/500 [00:02<00:19, 22.82it/s][Parallel(n_jobs=8)]: Done  34 tasks      | elapsed:    2.0s\n",
      "Building a1 cache:  38%|███▊      | 192/500 [00:09<00:15, 19.57it/s][Parallel(n_jobs=8)]: Done 184 tasks      | elapsed:    9.7s\n",
      "Building a1 cache:  90%|████████▉ | 448/500 [00:22<00:02, 19.57it/s][Parallel(n_jobs=8)]: Done 434 tasks      | elapsed:   22.9s\n",
      "Building a1 cache: 100%|██████████| 500/500 [00:25<00:00, 19.68it/s]\n",
      "[Parallel(n_jobs=8)]: Done 500 out of 500 | elapsed:   26.2s finished\n",
      "Building a1 cache:   0%|          | 0/500 [00:00<?, ?it/s][Parallel(n_jobs=8)]: Using backend LokyBackend with 8 concurrent workers.\n"
     ]
    },
    {
     "name": "stdout",
     "output_type": "stream",
     "text": [
      "q=0.9, xeff=0.20000000000000018\n"
     ]
    },
    {
     "name": "stderr",
     "output_type": "stream",
     "text": [
      "Building a1 cache:  10%|▉         | 48/500 [00:02<00:20, 21.90it/s][Parallel(n_jobs=8)]: Done  34 tasks      | elapsed:    2.1s\n",
      "Building a1 cache:  38%|███▊      | 192/500 [00:09<00:16, 18.60it/s][Parallel(n_jobs=8)]: Done 184 tasks      | elapsed:    9.9s\n",
      "Building a1 cache:  90%|████████▉ | 448/500 [00:24<00:03, 17.12it/s][Parallel(n_jobs=8)]: Done 434 tasks      | elapsed:   24.6s\n",
      "Building a1 cache: 100%|██████████| 500/500 [00:27<00:00, 18.35it/s]\n",
      "[Parallel(n_jobs=8)]: Done 500 out of 500 | elapsed:   28.2s finished\n",
      "Building a1 cache:   0%|          | 0/500 [00:00<?, ?it/s][Parallel(n_jobs=8)]: Using backend LokyBackend with 8 concurrent workers.\n"
     ]
    },
    {
     "name": "stdout",
     "output_type": "stream",
     "text": [
      "q=0.9, xeff=0.40000000000000013\n"
     ]
    },
    {
     "name": "stderr",
     "output_type": "stream",
     "text": [
      "Building a1 cache:  10%|▉         | 48/500 [00:02<00:23, 18.96it/s][Parallel(n_jobs=8)]: Done  34 tasks      | elapsed:    2.5s\n",
      "Building a1 cache:  38%|███▊      | 192/500 [00:10<00:15, 19.72it/s][Parallel(n_jobs=8)]: Done 184 tasks      | elapsed:   10.4s\n",
      "Building a1 cache:  90%|████████▉ | 448/500 [00:23<00:02, 18.76it/s][Parallel(n_jobs=8)]: Done 434 tasks      | elapsed:   23.4s\n",
      "Building a1 cache: 100%|██████████| 500/500 [00:25<00:00, 19.36it/s]\n",
      "[Parallel(n_jobs=8)]: Done 500 out of 500 | elapsed:   26.7s finished\n",
      "Building a1 cache:   0%|          | 0/500 [00:00<?, ?it/s][Parallel(n_jobs=8)]: Using backend LokyBackend with 8 concurrent workers.\n"
     ]
    },
    {
     "name": "stdout",
     "output_type": "stream",
     "text": [
      "q=0.9, xeff=0.6000000000000001\n"
     ]
    },
    {
     "name": "stderr",
     "output_type": "stream",
     "text": [
      "Building a1 cache:  10%|▉         | 48/500 [00:02<00:20, 22.37it/s][Parallel(n_jobs=8)]: Done  34 tasks      | elapsed:    2.1s\n",
      "Building a1 cache:  38%|███▊      | 192/500 [00:09<00:15, 19.57it/s][Parallel(n_jobs=8)]: Done 184 tasks      | elapsed:    9.6s\n",
      "Building a1 cache:  90%|████████▉ | 448/500 [00:22<00:02, 19.25it/s][Parallel(n_jobs=8)]: Done 434 tasks      | elapsed:   22.5s\n",
      "Building a1 cache: 100%|██████████| 500/500 [00:24<00:00, 20.12it/s]\n",
      "[Parallel(n_jobs=8)]: Done 500 out of 500 | elapsed:   25.7s finished\n",
      "Building a1 cache:   0%|          | 0/500 [00:00<?, ?it/s][Parallel(n_jobs=8)]: Using backend LokyBackend with 8 concurrent workers.\n"
     ]
    },
    {
     "name": "stdout",
     "output_type": "stream",
     "text": [
      "q=0.9, xeff=0.8\n"
     ]
    },
    {
     "name": "stderr",
     "output_type": "stream",
     "text": [
      "Building a1 cache:  10%|▉         | 48/500 [00:02<00:20, 21.76it/s][Parallel(n_jobs=8)]: Done  34 tasks      | elapsed:    2.1s\n",
      "Building a1 cache:  38%|███▊      | 192/500 [00:09<00:15, 19.96it/s][Parallel(n_jobs=8)]: Done 184 tasks      | elapsed:    9.6s\n",
      "Building a1 cache:  90%|████████▉ | 448/500 [00:22<00:02, 19.54it/s][Parallel(n_jobs=8)]: Done 434 tasks      | elapsed:   22.4s\n",
      "Building a1 cache: 100%|██████████| 500/500 [00:24<00:00, 20.22it/s]\n",
      "[Parallel(n_jobs=8)]: Done 500 out of 500 | elapsed:   25.6s finished\n",
      "Building a1 cache:   0%|          | 0/500 [00:00<?, ?it/s][Parallel(n_jobs=8)]: Using backend LokyBackend with 8 concurrent workers.\n"
     ]
    },
    {
     "name": "stdout",
     "output_type": "stream",
     "text": [
      "q=0.9, xeff=1.0\n"
     ]
    },
    {
     "name": "stderr",
     "output_type": "stream",
     "text": [
      "Building a1 cache:  10%|▉         | 48/500 [00:02<00:19, 22.63it/s][Parallel(n_jobs=8)]: Done  34 tasks      | elapsed:    2.1s\n",
      "Building a1 cache:  38%|███▊      | 192/500 [00:09<00:15, 19.94it/s][Parallel(n_jobs=8)]: Done 184 tasks      | elapsed:    9.6s\n",
      "Building a1 cache:  90%|████████▉ | 448/500 [00:22<00:02, 19.34it/s][Parallel(n_jobs=8)]: Done 434 tasks      | elapsed:   22.3s\n",
      "Building a1 cache: 100%|██████████| 500/500 [00:24<00:00, 20.18it/s]\n",
      "[Parallel(n_jobs=8)]: Done 500 out of 500 | elapsed:   25.7s finished\n",
      "<ipython-input-2-aa2845171f48>:26: RuntimeWarning: invalid value encountered in true_divide\n",
      "  p_a1 = p_a1 / np.sum(p_a1) / da1\n",
      "Building a1 cache:   0%|          | 0/500 [00:00<?, ?it/s][Parallel(n_jobs=8)]: Using backend LokyBackend with 8 concurrent workers.\n"
     ]
    },
    {
     "name": "stdout",
     "output_type": "stream",
     "text": [
      "q=1.0, xeff=-1.0\n"
     ]
    },
    {
     "name": "stderr",
     "output_type": "stream",
     "text": [
      "Building a1 cache:  10%|▉         | 48/500 [00:01<00:19, 22.97it/s][Parallel(n_jobs=8)]: Done  34 tasks      | elapsed:    2.0s\n",
      "Building a1 cache:  38%|███▊      | 192/500 [00:09<00:15, 19.58it/s][Parallel(n_jobs=8)]: Done 184 tasks      | elapsed:    9.6s\n",
      "Building a1 cache:  90%|████████▉ | 448/500 [00:22<00:02, 19.40it/s][Parallel(n_jobs=8)]: Done 434 tasks      | elapsed:   22.5s\n",
      "Building a1 cache: 100%|██████████| 500/500 [00:24<00:00, 20.05it/s]\n",
      "[Parallel(n_jobs=8)]: Done 500 out of 500 | elapsed:   25.8s finished\n",
      "<ipython-input-2-aa2845171f48>:26: RuntimeWarning: invalid value encountered in true_divide\n",
      "  p_a1 = p_a1 / np.sum(p_a1) / da1\n",
      "Building a1 cache:   0%|          | 0/500 [00:00<?, ?it/s][Parallel(n_jobs=8)]: Using backend LokyBackend with 8 concurrent workers.\n"
     ]
    },
    {
     "name": "stdout",
     "output_type": "stream",
     "text": [
      "q=1.0, xeff=-0.8\n"
     ]
    },
    {
     "name": "stderr",
     "output_type": "stream",
     "text": [
      "Building a1 cache:  10%|▉         | 48/500 [00:02<00:20, 21.95it/s][Parallel(n_jobs=8)]: Done  34 tasks      | elapsed:    2.1s\n",
      "Building a1 cache:  38%|███▊      | 192/500 [00:09<00:15, 19.67it/s][Parallel(n_jobs=8)]: Done 184 tasks      | elapsed:    9.5s\n",
      "Building a1 cache:  90%|████████▉ | 448/500 [00:22<00:02, 18.86it/s][Parallel(n_jobs=8)]: Done 434 tasks      | elapsed:   22.4s\n",
      "Building a1 cache: 100%|██████████| 500/500 [00:24<00:00, 20.08it/s]\n",
      "[Parallel(n_jobs=8)]: Done 500 out of 500 | elapsed:   25.7s finished\n",
      "Building a1 cache:   0%|          | 0/500 [00:00<?, ?it/s][Parallel(n_jobs=8)]: Using backend LokyBackend with 8 concurrent workers.\n"
     ]
    },
    {
     "name": "stdout",
     "output_type": "stream",
     "text": [
      "q=1.0, xeff=-0.6\n"
     ]
    },
    {
     "name": "stderr",
     "output_type": "stream",
     "text": [
      "Building a1 cache:  10%|▉         | 48/500 [00:02<00:20, 21.84it/s][Parallel(n_jobs=8)]: Done  34 tasks      | elapsed:    2.1s\n",
      "Building a1 cache:  38%|███▊      | 192/500 [00:09<00:15, 20.08it/s][Parallel(n_jobs=8)]: Done 184 tasks      | elapsed:    9.6s\n",
      "Building a1 cache:  90%|████████▉ | 448/500 [00:22<00:02, 19.49it/s][Parallel(n_jobs=8)]: Done 434 tasks      | elapsed:   22.4s\n",
      "Building a1 cache: 100%|██████████| 500/500 [00:24<00:00, 20.11it/s]\n",
      "[Parallel(n_jobs=8)]: Done 500 out of 500 | elapsed:   25.6s finished\n",
      "Building a1 cache:   0%|          | 0/500 [00:00<?, ?it/s][Parallel(n_jobs=8)]: Using backend LokyBackend with 8 concurrent workers.\n"
     ]
    },
    {
     "name": "stdout",
     "output_type": "stream",
     "text": [
      "q=1.0, xeff=-0.3999999999999999\n"
     ]
    },
    {
     "name": "stderr",
     "output_type": "stream",
     "text": [
      "Building a1 cache:  10%|▉         | 48/500 [00:02<00:19, 22.67it/s][Parallel(n_jobs=8)]: Done  34 tasks      | elapsed:    2.0s\n",
      "Building a1 cache:  38%|███▊      | 192/500 [00:09<00:15, 19.49it/s][Parallel(n_jobs=8)]: Done 184 tasks      | elapsed:    9.6s\n",
      "Building a1 cache:  90%|████████▉ | 448/500 [00:22<00:02, 19.07it/s][Parallel(n_jobs=8)]: Done 434 tasks      | elapsed:   22.3s\n",
      "Building a1 cache: 100%|██████████| 500/500 [00:24<00:00, 20.19it/s]\n",
      "[Parallel(n_jobs=8)]: Done 500 out of 500 | elapsed:   25.6s finished\n",
      "Building a1 cache:   0%|          | 0/500 [00:00<?, ?it/s][Parallel(n_jobs=8)]: Using backend LokyBackend with 8 concurrent workers.\n"
     ]
    },
    {
     "name": "stdout",
     "output_type": "stream",
     "text": [
      "q=1.0, xeff=-0.19999999999999996\n"
     ]
    },
    {
     "name": "stderr",
     "output_type": "stream",
     "text": [
      "Building a1 cache:  10%|▉         | 48/500 [00:01<00:19, 22.76it/s][Parallel(n_jobs=8)]: Done  34 tasks      | elapsed:    2.0s\n",
      "Building a1 cache:  38%|███▊      | 192/500 [00:09<00:15, 19.90it/s][Parallel(n_jobs=8)]: Done 184 tasks      | elapsed:    9.5s\n",
      "Building a1 cache:  90%|████████▉ | 448/500 [00:22<00:02, 19.04it/s][Parallel(n_jobs=8)]: Done 434 tasks      | elapsed:   22.3s\n",
      "Building a1 cache: 100%|██████████| 500/500 [00:24<00:00, 20.24it/s]\n",
      "[Parallel(n_jobs=8)]: Done 500 out of 500 | elapsed:   25.5s finished\n",
      "Building a1 cache:   0%|          | 0/500 [00:00<?, ?it/s][Parallel(n_jobs=8)]: Using backend LokyBackend with 8 concurrent workers.\n"
     ]
    },
    {
     "name": "stdout",
     "output_type": "stream",
     "text": [
      "q=1.0, xeff=0.0\n"
     ]
    },
    {
     "name": "stderr",
     "output_type": "stream",
     "text": [
      "Building a1 cache:  10%|▉         | 48/500 [00:01<00:19, 22.97it/s][Parallel(n_jobs=8)]: Done  34 tasks      | elapsed:    2.0s\n",
      "Building a1 cache:  38%|███▊      | 192/500 [00:09<00:15, 19.84it/s][Parallel(n_jobs=8)]: Done 184 tasks      | elapsed:    9.5s\n",
      "Building a1 cache:  90%|████████▉ | 448/500 [00:22<00:02, 19.22it/s][Parallel(n_jobs=8)]: Done 434 tasks      | elapsed:   22.3s\n",
      "Building a1 cache: 100%|██████████| 500/500 [00:24<00:00, 20.13it/s]\n",
      "[Parallel(n_jobs=8)]: Done 500 out of 500 | elapsed:   25.7s finished\n",
      "Building a1 cache:   0%|          | 0/500 [00:00<?, ?it/s][Parallel(n_jobs=8)]: Using backend LokyBackend with 8 concurrent workers.\n"
     ]
    },
    {
     "name": "stdout",
     "output_type": "stream",
     "text": [
      "q=1.0, xeff=0.20000000000000018\n"
     ]
    },
    {
     "name": "stderr",
     "output_type": "stream",
     "text": [
      "Building a1 cache:  10%|▉         | 48/500 [00:01<00:19, 23.26it/s][Parallel(n_jobs=8)]: Done  34 tasks      | elapsed:    2.0s\n",
      "Building a1 cache:  38%|███▊      | 192/500 [00:09<00:16, 19.18it/s][Parallel(n_jobs=8)]: Done 184 tasks      | elapsed:    9.7s\n",
      "Building a1 cache:  90%|████████▉ | 448/500 [00:22<00:02, 19.31it/s][Parallel(n_jobs=8)]: Done 434 tasks      | elapsed:   22.7s\n",
      "Building a1 cache: 100%|██████████| 500/500 [00:25<00:00, 19.91it/s]\n",
      "[Parallel(n_jobs=8)]: Done 500 out of 500 | elapsed:   25.9s finished\n",
      "Building a1 cache:   0%|          | 0/500 [00:00<?, ?it/s][Parallel(n_jobs=8)]: Using backend LokyBackend with 8 concurrent workers.\n"
     ]
    },
    {
     "name": "stdout",
     "output_type": "stream",
     "text": [
      "q=1.0, xeff=0.40000000000000013\n"
     ]
    },
    {
     "name": "stderr",
     "output_type": "stream",
     "text": [
      "Building a1 cache:  10%|▉         | 48/500 [00:02<00:20, 22.26it/s][Parallel(n_jobs=8)]: Done  34 tasks      | elapsed:    2.1s\n",
      "Building a1 cache:  38%|███▊      | 192/500 [00:09<00:15, 19.51it/s][Parallel(n_jobs=8)]: Done 184 tasks      | elapsed:    9.5s\n",
      "Building a1 cache:  90%|████████▉ | 448/500 [00:22<00:02, 19.73it/s][Parallel(n_jobs=8)]: Done 434 tasks      | elapsed:   22.3s\n",
      "Building a1 cache: 100%|██████████| 500/500 [00:24<00:00, 20.22it/s]\n",
      "[Parallel(n_jobs=8)]: Done 500 out of 500 | elapsed:   25.6s finished\n",
      "Building a1 cache:   0%|          | 0/500 [00:00<?, ?it/s][Parallel(n_jobs=8)]: Using backend LokyBackend with 8 concurrent workers.\n"
     ]
    },
    {
     "name": "stdout",
     "output_type": "stream",
     "text": [
      "q=1.0, xeff=0.6000000000000001\n"
     ]
    },
    {
     "name": "stderr",
     "output_type": "stream",
     "text": [
      "Building a1 cache:  10%|▉         | 48/500 [00:01<00:19, 23.05it/s][Parallel(n_jobs=8)]: Done  34 tasks      | elapsed:    2.0s\n",
      "Building a1 cache:  38%|███▊      | 192/500 [00:09<00:15, 19.64it/s][Parallel(n_jobs=8)]: Done 184 tasks      | elapsed:    9.6s\n",
      "Building a1 cache:  90%|████████▉ | 448/500 [00:22<00:02, 19.36it/s][Parallel(n_jobs=8)]: Done 434 tasks      | elapsed:   22.3s\n",
      "Building a1 cache: 100%|██████████| 500/500 [00:24<00:00, 20.14it/s]\n",
      "[Parallel(n_jobs=8)]: Done 500 out of 500 | elapsed:   25.6s finished\n",
      "Building a1 cache:   0%|          | 0/500 [00:00<?, ?it/s][Parallel(n_jobs=8)]: Using backend LokyBackend with 8 concurrent workers.\n"
     ]
    },
    {
     "name": "stdout",
     "output_type": "stream",
     "text": [
      "q=1.0, xeff=0.8\n"
     ]
    },
    {
     "name": "stderr",
     "output_type": "stream",
     "text": [
      "Building a1 cache:  10%|▉         | 48/500 [00:01<00:19, 22.85it/s][Parallel(n_jobs=8)]: Done  34 tasks      | elapsed:    2.0s\n",
      "Building a1 cache:  38%|███▊      | 192/500 [00:09<00:15, 19.63it/s][Parallel(n_jobs=8)]: Done 184 tasks      | elapsed:    9.6s\n",
      "Building a1 cache:  90%|████████▉ | 448/500 [00:22<00:02, 19.50it/s][Parallel(n_jobs=8)]: Done 434 tasks      | elapsed:   22.2s\n",
      "Building a1 cache: 100%|██████████| 500/500 [00:24<00:00, 20.18it/s]\n",
      "[Parallel(n_jobs=8)]: Done 500 out of 500 | elapsed:   25.6s finished\n",
      "Building a1 cache:   0%|          | 0/500 [00:00<?, ?it/s][Parallel(n_jobs=8)]: Using backend LokyBackend with 8 concurrent workers.\n"
     ]
    },
    {
     "name": "stdout",
     "output_type": "stream",
     "text": [
      "q=1.0, xeff=1.0\n"
     ]
    },
    {
     "name": "stderr",
     "output_type": "stream",
     "text": [
      "Building a1 cache:  10%|▉         | 48/500 [00:02<00:20, 22.46it/s][Parallel(n_jobs=8)]: Done  34 tasks      | elapsed:    2.1s\n",
      "Building a1 cache:  38%|███▊      | 192/500 [00:09<00:16, 19.22it/s][Parallel(n_jobs=8)]: Done 184 tasks      | elapsed:    9.7s\n",
      "Building a1 cache:  90%|████████▉ | 448/500 [00:22<00:02, 19.28it/s][Parallel(n_jobs=8)]: Done 434 tasks      | elapsed:   22.7s\n",
      "Building a1 cache: 100%|██████████| 500/500 [00:25<00:00, 19.89it/s]\n",
      "[Parallel(n_jobs=8)]: Done 500 out of 500 | elapsed:   26.0s finished\n",
      "<ipython-input-2-aa2845171f48>:26: RuntimeWarning: invalid value encountered in true_divide\n",
      "  p_a1 = p_a1 / np.sum(p_a1) / da1\n"
     ]
    }
   ],
   "source": [
    "data = []\n",
    "for i in q_range:\n",
    "    for j in xeff_range:\n",
    "        print(f\"q={i}, xeff={j}\")\n",
    "        a1_prior = get_a1_prior(q=i, xeff=j)\n",
    "        plt.plot(a1_prior.xx, a1_prior.yy)\n",
    "        plt.xlabel(\"a1\")\n",
    "        plt.ylabel(f\"p(a1|q={i},xeff={j})\")\n",
    "        plt.savefig(f\"{outdir}/p_a1_given_q_xeff_{i}_{j}.png\")\n",
    "        plt.close()\n",
    "        # save to data\n",
    "        data.append([i,j,a1_prior.xx,a1_prior.yy])\n",
    "        \n",
    "\n"
   ]
  },
  {
   "cell_type": "code",
   "execution_count": 23,
   "metadata": {},
   "outputs": [],
   "source": [
    "df = pd.DataFrame(data)"
   ]
  },
  {
   "cell_type": "code",
   "execution_count": 24,
   "metadata": {},
   "outputs": [],
   "source": [
    "df.columns = [\"q\",\"xeff\",\"a1\",\"p_a1\"]"
   ]
  },
  {
   "cell_type": "code",
   "execution_count": 25,
   "metadata": {},
   "outputs": [],
   "source": [
    "import pickle\n",
    "# save the dataframe to pickle\n",
    "with open(f\"{outdir}/p_a1_given_q_xeff.pkl\", \"wb\") as f:\n",
    "    pickle.dump(df, f)"
   ]
  },
  {
   "cell_type": "code",
   "execution_count": 26,
   "metadata": {},
   "outputs": [
    {
     "data": {
      "text/html": [
       "<div>\n",
       "<style scoped>\n",
       "    .dataframe tbody tr th:only-of-type {\n",
       "        vertical-align: middle;\n",
       "    }\n",
       "\n",
       "    .dataframe tbody tr th {\n",
       "        vertical-align: top;\n",
       "    }\n",
       "\n",
       "    .dataframe thead th {\n",
       "        text-align: right;\n",
       "    }\n",
       "</style>\n",
       "<table border=\"1\" class=\"dataframe\">\n",
       "  <thead>\n",
       "    <tr style=\"text-align: right;\">\n",
       "      <th></th>\n",
       "      <th>q</th>\n",
       "      <th>xeff</th>\n",
       "      <th>a1</th>\n",
       "      <th>p_a1</th>\n",
       "    </tr>\n",
       "  </thead>\n",
       "  <tbody>\n",
       "    <tr>\n",
       "      <th>0</th>\n",
       "      <td>0.0</td>\n",
       "      <td>-1.0</td>\n",
       "      <td>[0.0, 0.002004008016032064, 0.0040080160320641...</td>\n",
       "      <td>[nan, nan, nan, nan, nan, nan, nan, nan, nan, ...</td>\n",
       "    </tr>\n",
       "    <tr>\n",
       "      <th>1</th>\n",
       "      <td>0.0</td>\n",
       "      <td>-0.8</td>\n",
       "      <td>[0.0, 0.002004008016032064, 0.0040080160320641...</td>\n",
       "      <td>[nan, nan, nan, nan, nan, nan, nan, nan, nan, ...</td>\n",
       "    </tr>\n",
       "    <tr>\n",
       "      <th>2</th>\n",
       "      <td>0.0</td>\n",
       "      <td>-0.6</td>\n",
       "      <td>[0.0, 0.002004008016032064, 0.0040080160320641...</td>\n",
       "      <td>[nan, nan, nan, nan, nan, nan, nan, nan, nan, ...</td>\n",
       "    </tr>\n",
       "    <tr>\n",
       "      <th>3</th>\n",
       "      <td>0.0</td>\n",
       "      <td>-0.4</td>\n",
       "      <td>[0.0, 0.002004008016032064, 0.0040080160320641...</td>\n",
       "      <td>[nan, nan, nan, nan, nan, nan, nan, nan, nan, ...</td>\n",
       "    </tr>\n",
       "    <tr>\n",
       "      <th>4</th>\n",
       "      <td>0.0</td>\n",
       "      <td>-0.2</td>\n",
       "      <td>[0.0, 0.002004008016032064, 0.0040080160320641...</td>\n",
       "      <td>[nan, nan, nan, nan, nan, nan, nan, nan, nan, ...</td>\n",
       "    </tr>\n",
       "    <tr>\n",
       "      <th>...</th>\n",
       "      <td>...</td>\n",
       "      <td>...</td>\n",
       "      <td>...</td>\n",
       "      <td>...</td>\n",
       "    </tr>\n",
       "    <tr>\n",
       "      <th>116</th>\n",
       "      <td>1.0</td>\n",
       "      <td>0.2</td>\n",
       "      <td>[0.0, 0.002004008016032064, 0.0040080160320641...</td>\n",
       "      <td>[1.0680033419862862, 1.0678605941877117, 1.067...</td>\n",
       "    </tr>\n",
       "    <tr>\n",
       "      <th>117</th>\n",
       "      <td>1.0</td>\n",
       "      <td>0.4</td>\n",
       "      <td>[0.0, 0.002004008016032064, 0.0040080160320641...</td>\n",
       "      <td>[0.7832345001188603, 0.7843442342552497, 0.784...</td>\n",
       "    </tr>\n",
       "    <tr>\n",
       "      <th>118</th>\n",
       "      <td>1.0</td>\n",
       "      <td>0.6</td>\n",
       "      <td>[0.2064128256513026, 0.2080031807101176, 0.209...</td>\n",
       "      <td>[0.0003581317510958827, 0.0006423405154926148,...</td>\n",
       "    </tr>\n",
       "    <tr>\n",
       "      <th>119</th>\n",
       "      <td>1.0</td>\n",
       "      <td>0.8</td>\n",
       "      <td>[0.6112224448897795, 0.6120015582266737, 0.612...</td>\n",
       "      <td>[0.003378646421929789, 0.004692188317429458, 0...</td>\n",
       "    </tr>\n",
       "    <tr>\n",
       "      <th>120</th>\n",
       "      <td>1.0</td>\n",
       "      <td>1.0</td>\n",
       "      <td>[0.0, 0.002004008016032064, 0.0040080160320641...</td>\n",
       "      <td>[nan, nan, nan, nan, nan, nan, nan, nan, nan, ...</td>\n",
       "    </tr>\n",
       "  </tbody>\n",
       "</table>\n",
       "<p>121 rows × 4 columns</p>\n",
       "</div>"
      ],
      "text/plain": [
       "       q  xeff                                                 a1  \\\n",
       "0    0.0  -1.0  [0.0, 0.002004008016032064, 0.0040080160320641...   \n",
       "1    0.0  -0.8  [0.0, 0.002004008016032064, 0.0040080160320641...   \n",
       "2    0.0  -0.6  [0.0, 0.002004008016032064, 0.0040080160320641...   \n",
       "3    0.0  -0.4  [0.0, 0.002004008016032064, 0.0040080160320641...   \n",
       "4    0.0  -0.2  [0.0, 0.002004008016032064, 0.0040080160320641...   \n",
       "..   ...   ...                                                ...   \n",
       "116  1.0   0.2  [0.0, 0.002004008016032064, 0.0040080160320641...   \n",
       "117  1.0   0.4  [0.0, 0.002004008016032064, 0.0040080160320641...   \n",
       "118  1.0   0.6  [0.2064128256513026, 0.2080031807101176, 0.209...   \n",
       "119  1.0   0.8  [0.6112224448897795, 0.6120015582266737, 0.612...   \n",
       "120  1.0   1.0  [0.0, 0.002004008016032064, 0.0040080160320641...   \n",
       "\n",
       "                                                  p_a1  \n",
       "0    [nan, nan, nan, nan, nan, nan, nan, nan, nan, ...  \n",
       "1    [nan, nan, nan, nan, nan, nan, nan, nan, nan, ...  \n",
       "2    [nan, nan, nan, nan, nan, nan, nan, nan, nan, ...  \n",
       "3    [nan, nan, nan, nan, nan, nan, nan, nan, nan, ...  \n",
       "4    [nan, nan, nan, nan, nan, nan, nan, nan, nan, ...  \n",
       "..                                                 ...  \n",
       "116  [1.0680033419862862, 1.0678605941877117, 1.067...  \n",
       "117  [0.7832345001188603, 0.7843442342552497, 0.784...  \n",
       "118  [0.0003581317510958827, 0.0006423405154926148,...  \n",
       "119  [0.003378646421929789, 0.004692188317429458, 0...  \n",
       "120  [nan, nan, nan, nan, nan, nan, nan, nan, nan, ...  \n",
       "\n",
       "[121 rows x 4 columns]"
      ]
     },
     "execution_count": 26,
     "metadata": {},
     "output_type": "execute_result"
    }
   ],
   "source": [
    "df"
   ]
  },
  {
   "cell_type": "markdown",
   "metadata": {},
   "source": [
    "Some data contains nans, remove them so that they won't cause problems later."
   ]
  },
  {
   "cell_type": "code",
   "execution_count": 28,
   "metadata": {},
   "outputs": [],
   "source": [
    "# test pickle file\n",
    "out = pd.read_pickle(f\"{outdir}/p_a1_given_q_xeff.pkl\")"
   ]
  },
  {
   "cell_type": "code",
   "execution_count": 29,
   "metadata": {},
   "outputs": [
    {
     "data": {
      "text/html": [
       "<div>\n",
       "<style scoped>\n",
       "    .dataframe tbody tr th:only-of-type {\n",
       "        vertical-align: middle;\n",
       "    }\n",
       "\n",
       "    .dataframe tbody tr th {\n",
       "        vertical-align: top;\n",
       "    }\n",
       "\n",
       "    .dataframe thead th {\n",
       "        text-align: right;\n",
       "    }\n",
       "</style>\n",
       "<table border=\"1\" class=\"dataframe\">\n",
       "  <thead>\n",
       "    <tr style=\"text-align: right;\">\n",
       "      <th></th>\n",
       "      <th>q</th>\n",
       "      <th>xeff</th>\n",
       "      <th>a1</th>\n",
       "      <th>p_a1</th>\n",
       "    </tr>\n",
       "  </thead>\n",
       "  <tbody>\n",
       "    <tr>\n",
       "      <th>0</th>\n",
       "      <td>0.0</td>\n",
       "      <td>-1.0</td>\n",
       "      <td>[0.0, 0.002004008016032064, 0.0040080160320641...</td>\n",
       "      <td>[nan, nan, nan, nan, nan, nan, nan, nan, nan, ...</td>\n",
       "    </tr>\n",
       "    <tr>\n",
       "      <th>1</th>\n",
       "      <td>0.0</td>\n",
       "      <td>-0.8</td>\n",
       "      <td>[0.0, 0.002004008016032064, 0.0040080160320641...</td>\n",
       "      <td>[nan, nan, nan, nan, nan, nan, nan, nan, nan, ...</td>\n",
       "    </tr>\n",
       "    <tr>\n",
       "      <th>2</th>\n",
       "      <td>0.0</td>\n",
       "      <td>-0.6</td>\n",
       "      <td>[0.0, 0.002004008016032064, 0.0040080160320641...</td>\n",
       "      <td>[nan, nan, nan, nan, nan, nan, nan, nan, nan, ...</td>\n",
       "    </tr>\n",
       "    <tr>\n",
       "      <th>3</th>\n",
       "      <td>0.0</td>\n",
       "      <td>-0.4</td>\n",
       "      <td>[0.0, 0.002004008016032064, 0.0040080160320641...</td>\n",
       "      <td>[nan, nan, nan, nan, nan, nan, nan, nan, nan, ...</td>\n",
       "    </tr>\n",
       "    <tr>\n",
       "      <th>4</th>\n",
       "      <td>0.0</td>\n",
       "      <td>-0.2</td>\n",
       "      <td>[0.0, 0.002004008016032064, 0.0040080160320641...</td>\n",
       "      <td>[nan, nan, nan, nan, nan, nan, nan, nan, nan, ...</td>\n",
       "    </tr>\n",
       "    <tr>\n",
       "      <th>...</th>\n",
       "      <td>...</td>\n",
       "      <td>...</td>\n",
       "      <td>...</td>\n",
       "      <td>...</td>\n",
       "    </tr>\n",
       "    <tr>\n",
       "      <th>116</th>\n",
       "      <td>1.0</td>\n",
       "      <td>0.2</td>\n",
       "      <td>[0.0, 0.002004008016032064, 0.0040080160320641...</td>\n",
       "      <td>[1.0680033419862862, 1.0678605941877117, 1.067...</td>\n",
       "    </tr>\n",
       "    <tr>\n",
       "      <th>117</th>\n",
       "      <td>1.0</td>\n",
       "      <td>0.4</td>\n",
       "      <td>[0.0, 0.002004008016032064, 0.0040080160320641...</td>\n",
       "      <td>[0.7832345001188603, 0.7843442342552497, 0.784...</td>\n",
       "    </tr>\n",
       "    <tr>\n",
       "      <th>118</th>\n",
       "      <td>1.0</td>\n",
       "      <td>0.6</td>\n",
       "      <td>[0.2064128256513026, 0.2080031807101176, 0.209...</td>\n",
       "      <td>[0.0003581317510958827, 0.0006423405154926148,...</td>\n",
       "    </tr>\n",
       "    <tr>\n",
       "      <th>119</th>\n",
       "      <td>1.0</td>\n",
       "      <td>0.8</td>\n",
       "      <td>[0.6112224448897795, 0.6120015582266737, 0.612...</td>\n",
       "      <td>[0.003378646421929789, 0.004692188317429458, 0...</td>\n",
       "    </tr>\n",
       "    <tr>\n",
       "      <th>120</th>\n",
       "      <td>1.0</td>\n",
       "      <td>1.0</td>\n",
       "      <td>[0.0, 0.002004008016032064, 0.0040080160320641...</td>\n",
       "      <td>[nan, nan, nan, nan, nan, nan, nan, nan, nan, ...</td>\n",
       "    </tr>\n",
       "  </tbody>\n",
       "</table>\n",
       "<p>121 rows × 4 columns</p>\n",
       "</div>"
      ],
      "text/plain": [
       "       q  xeff                                                 a1  \\\n",
       "0    0.0  -1.0  [0.0, 0.002004008016032064, 0.0040080160320641...   \n",
       "1    0.0  -0.8  [0.0, 0.002004008016032064, 0.0040080160320641...   \n",
       "2    0.0  -0.6  [0.0, 0.002004008016032064, 0.0040080160320641...   \n",
       "3    0.0  -0.4  [0.0, 0.002004008016032064, 0.0040080160320641...   \n",
       "4    0.0  -0.2  [0.0, 0.002004008016032064, 0.0040080160320641...   \n",
       "..   ...   ...                                                ...   \n",
       "116  1.0   0.2  [0.0, 0.002004008016032064, 0.0040080160320641...   \n",
       "117  1.0   0.4  [0.0, 0.002004008016032064, 0.0040080160320641...   \n",
       "118  1.0   0.6  [0.2064128256513026, 0.2080031807101176, 0.209...   \n",
       "119  1.0   0.8  [0.6112224448897795, 0.6120015582266737, 0.612...   \n",
       "120  1.0   1.0  [0.0, 0.002004008016032064, 0.0040080160320641...   \n",
       "\n",
       "                                                  p_a1  \n",
       "0    [nan, nan, nan, nan, nan, nan, nan, nan, nan, ...  \n",
       "1    [nan, nan, nan, nan, nan, nan, nan, nan, nan, ...  \n",
       "2    [nan, nan, nan, nan, nan, nan, nan, nan, nan, ...  \n",
       "3    [nan, nan, nan, nan, nan, nan, nan, nan, nan, ...  \n",
       "4    [nan, nan, nan, nan, nan, nan, nan, nan, nan, ...  \n",
       "..                                                 ...  \n",
       "116  [1.0680033419862862, 1.0678605941877117, 1.067...  \n",
       "117  [0.7832345001188603, 0.7843442342552497, 0.784...  \n",
       "118  [0.0003581317510958827, 0.0006423405154926148,...  \n",
       "119  [0.003378646421929789, 0.004692188317429458, 0...  \n",
       "120  [nan, nan, nan, nan, nan, nan, nan, nan, nan, ...  \n",
       "\n",
       "[121 rows x 4 columns]"
      ]
     },
     "execution_count": 29,
     "metadata": {},
     "output_type": "execute_result"
    }
   ],
   "source": [
    "out"
   ]
  },
  {
   "cell_type": "code",
   "execution_count": null,
   "metadata": {},
   "outputs": [],
   "source": []
  }
 ],
 "metadata": {
  "interpreter": {
   "hash": "541143602329a03f71f32a0a160c785fb8ee263553dc2658377783b6f80d17e9"
  },
  "kernelspec": {
   "display_name": "Python 3.8.5",
   "language": "python",
   "name": "python3"
  },
  "language_info": {
   "codemirror_mode": {
    "name": "ipython",
    "version": 3
   },
   "file_extension": ".py",
   "mimetype": "text/x-python",
   "name": "python",
   "nbconvert_exporter": "python",
   "pygments_lexer": "ipython3",
   "version": "3.8.3"
  },
  "orig_nbformat": 4
 },
 "nbformat": 4,
 "nbformat_minor": 2
}
